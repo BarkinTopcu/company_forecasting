{
  "nbformat": 4,
  "nbformat_minor": 0,
  "metadata": {
    "colab": {
      "provenance": [],
      "gpuType": "T4",
      "authorship_tag": "ABX9TyONQXF0PFH9GYXZrslJUVab",
      "include_colab_link": true
    },
    "kernelspec": {
      "name": "python3",
      "display_name": "Python 3"
    },
    "language_info": {
      "name": "python"
    },
    "accelerator": "GPU"
  },
  "cells": [
    {
      "cell_type": "markdown",
      "metadata": {
        "id": "view-in-github",
        "colab_type": "text"
      },
      "source": [
        "<a href=\"https://colab.research.google.com/github/BarkinTopcu/company_forecasting/blob/main/D01_Deep_Learning_Method_1.ipynb\" target=\"_parent\"><img src=\"https://colab.research.google.com/assets/colab-badge.svg\" alt=\"Open In Colab\"/></a>"
      ]
    },
    {
      "cell_type": "markdown",
      "source": [
        "# Python Sales Forecasting with AI Based - Daily Forecasting\n",
        "This code documentation and code is written by Recep Barkın Topcu.\n",
        "\n",
        "The dataset is taken from kaggle: https://www.kaggle.com/competitions/store-sales-time-series-forecasting/overview\n",
        "\n",
        "This code just focus on the company transaction without store based. All sales of the all stores at each day are gathered together."
      ],
      "metadata": {
        "id": "90qYlmouUmGD"
      }
    },
    {
      "cell_type": "markdown",
      "source": [
        "# Data Preprocessing"
      ],
      "metadata": {
        "id": "eyTbbCFOUsiC"
      }
    },
    {
      "cell_type": "markdown",
      "source": [
        "These part are already done in D00. However, I will show you again."
      ],
      "metadata": {
        "id": "gWy6htrHU-6a"
      }
    },
    {
      "cell_type": "code",
      "source": [
        "pip install modin[ray] -qq"
      ],
      "metadata": {
        "colab": {
          "base_uri": "https://localhost:8080/"
        },
        "id": "yOQZqiaGV7ny",
        "outputId": "ed582109-ee0c-4078-cc6d-c35fbcdf8213"
      },
      "execution_count": 1,
      "outputs": [
        {
          "output_type": "stream",
          "name": "stdout",
          "text": [
            "\u001b[2K   \u001b[90m━━━━━━━━━━━━━━━━━━━━━━━━━━━━━━━━━━━━━━━━\u001b[0m \u001b[32m68.1/68.1 MB\u001b[0m \u001b[31m11.3 MB/s\u001b[0m eta \u001b[36m0:00:00\u001b[0m\n",
            "\u001b[2K   \u001b[90m━━━━━━━━━━━━━━━━━━━━━━━━━━━━━━━━━━━━━━━━\u001b[0m \u001b[32m1.1/1.1 MB\u001b[0m \u001b[31m62.5 MB/s\u001b[0m eta \u001b[36m0:00:00\u001b[0m\n",
            "\u001b[?25h"
          ]
        }
      ]
    },
    {
      "cell_type": "code",
      "source": [
        "import warnings\n",
        "warnings.filterwarnings(\"ignore\", category=FutureWarning)"
      ],
      "metadata": {
        "id": "MM3LkskRV8JB"
      },
      "execution_count": 2,
      "outputs": []
    },
    {
      "cell_type": "code",
      "source": [
        "#modin pandas is faster than pandas\n",
        "import modin.pandas as pd\n",
        "import numpy as np\n",
        "import matplotlib.pyplot as plt\n",
        "import dask.dataframe as dd"
      ],
      "metadata": {
        "id": "Z-RJePDsV9VK"
      },
      "execution_count": 3,
      "outputs": []
    },
    {
      "cell_type": "code",
      "source": [
        "#Dask is used for reading the csv. When I was using pandas in the other projects sometimes pandas cannot read all of the data. For that reason I prefer to use dask.\n",
        "sales_df = dd.read_csv(\"transactions.csv\")\n",
        "sales_df = sales_df.compute()\n",
        "sales_df"
      ],
      "metadata": {
        "colab": {
          "base_uri": "https://localhost:8080/",
          "height": 423
        },
        "id": "HzJNuObiV_Nh",
        "outputId": "9ba1cb0b-6e9b-4a04-90e1-5bdb2bcdfca4"
      },
      "execution_count": 4,
      "outputs": [
        {
          "output_type": "execute_result",
          "data": {
            "text/plain": [
              "             date  store_nbr  transactions\n",
              "0      2013-01-01         25           770\n",
              "1      2013-01-02          1          2111\n",
              "2      2013-01-02          2          2358\n",
              "3      2013-01-02          3          3487\n",
              "4      2013-01-02          4          1922\n",
              "...           ...        ...           ...\n",
              "83483  2017-08-15         50          2804\n",
              "83484  2017-08-15         51          1573\n",
              "83485  2017-08-15         52          2255\n",
              "83486  2017-08-15         53           932\n",
              "83487  2017-08-15         54           802\n",
              "\n",
              "[83488 rows x 3 columns]"
            ],
            "text/html": [
              "\n",
              "  <div id=\"df-78dec034-0380-4de0-8e56-a8cfc8accc70\" class=\"colab-df-container\">\n",
              "    <div>\n",
              "<style scoped>\n",
              "    .dataframe tbody tr th:only-of-type {\n",
              "        vertical-align: middle;\n",
              "    }\n",
              "\n",
              "    .dataframe tbody tr th {\n",
              "        vertical-align: top;\n",
              "    }\n",
              "\n",
              "    .dataframe thead th {\n",
              "        text-align: right;\n",
              "    }\n",
              "</style>\n",
              "<table border=\"1\" class=\"dataframe\">\n",
              "  <thead>\n",
              "    <tr style=\"text-align: right;\">\n",
              "      <th></th>\n",
              "      <th>date</th>\n",
              "      <th>store_nbr</th>\n",
              "      <th>transactions</th>\n",
              "    </tr>\n",
              "  </thead>\n",
              "  <tbody>\n",
              "    <tr>\n",
              "      <th>0</th>\n",
              "      <td>2013-01-01</td>\n",
              "      <td>25</td>\n",
              "      <td>770</td>\n",
              "    </tr>\n",
              "    <tr>\n",
              "      <th>1</th>\n",
              "      <td>2013-01-02</td>\n",
              "      <td>1</td>\n",
              "      <td>2111</td>\n",
              "    </tr>\n",
              "    <tr>\n",
              "      <th>2</th>\n",
              "      <td>2013-01-02</td>\n",
              "      <td>2</td>\n",
              "      <td>2358</td>\n",
              "    </tr>\n",
              "    <tr>\n",
              "      <th>3</th>\n",
              "      <td>2013-01-02</td>\n",
              "      <td>3</td>\n",
              "      <td>3487</td>\n",
              "    </tr>\n",
              "    <tr>\n",
              "      <th>4</th>\n",
              "      <td>2013-01-02</td>\n",
              "      <td>4</td>\n",
              "      <td>1922</td>\n",
              "    </tr>\n",
              "    <tr>\n",
              "      <th>...</th>\n",
              "      <td>...</td>\n",
              "      <td>...</td>\n",
              "      <td>...</td>\n",
              "    </tr>\n",
              "    <tr>\n",
              "      <th>83483</th>\n",
              "      <td>2017-08-15</td>\n",
              "      <td>50</td>\n",
              "      <td>2804</td>\n",
              "    </tr>\n",
              "    <tr>\n",
              "      <th>83484</th>\n",
              "      <td>2017-08-15</td>\n",
              "      <td>51</td>\n",
              "      <td>1573</td>\n",
              "    </tr>\n",
              "    <tr>\n",
              "      <th>83485</th>\n",
              "      <td>2017-08-15</td>\n",
              "      <td>52</td>\n",
              "      <td>2255</td>\n",
              "    </tr>\n",
              "    <tr>\n",
              "      <th>83486</th>\n",
              "      <td>2017-08-15</td>\n",
              "      <td>53</td>\n",
              "      <td>932</td>\n",
              "    </tr>\n",
              "    <tr>\n",
              "      <th>83487</th>\n",
              "      <td>2017-08-15</td>\n",
              "      <td>54</td>\n",
              "      <td>802</td>\n",
              "    </tr>\n",
              "  </tbody>\n",
              "</table>\n",
              "<p>83488 rows × 3 columns</p>\n",
              "</div>\n",
              "    <div class=\"colab-df-buttons\">\n",
              "\n",
              "  <div class=\"colab-df-container\">\n",
              "    <button class=\"colab-df-convert\" onclick=\"convertToInteractive('df-78dec034-0380-4de0-8e56-a8cfc8accc70')\"\n",
              "            title=\"Convert this dataframe to an interactive table.\"\n",
              "            style=\"display:none;\">\n",
              "\n",
              "  <svg xmlns=\"http://www.w3.org/2000/svg\" height=\"24px\" viewBox=\"0 -960 960 960\">\n",
              "    <path d=\"M120-120v-720h720v720H120Zm60-500h600v-160H180v160Zm220 220h160v-160H400v160Zm0 220h160v-160H400v160ZM180-400h160v-160H180v160Zm440 0h160v-160H620v160ZM180-180h160v-160H180v160Zm440 0h160v-160H620v160Z\"/>\n",
              "  </svg>\n",
              "    </button>\n",
              "\n",
              "  <style>\n",
              "    .colab-df-container {\n",
              "      display:flex;\n",
              "      gap: 12px;\n",
              "    }\n",
              "\n",
              "    .colab-df-convert {\n",
              "      background-color: #E8F0FE;\n",
              "      border: none;\n",
              "      border-radius: 50%;\n",
              "      cursor: pointer;\n",
              "      display: none;\n",
              "      fill: #1967D2;\n",
              "      height: 32px;\n",
              "      padding: 0 0 0 0;\n",
              "      width: 32px;\n",
              "    }\n",
              "\n",
              "    .colab-df-convert:hover {\n",
              "      background-color: #E2EBFA;\n",
              "      box-shadow: 0px 1px 2px rgba(60, 64, 67, 0.3), 0px 1px 3px 1px rgba(60, 64, 67, 0.15);\n",
              "      fill: #174EA6;\n",
              "    }\n",
              "\n",
              "    .colab-df-buttons div {\n",
              "      margin-bottom: 4px;\n",
              "    }\n",
              "\n",
              "    [theme=dark] .colab-df-convert {\n",
              "      background-color: #3B4455;\n",
              "      fill: #D2E3FC;\n",
              "    }\n",
              "\n",
              "    [theme=dark] .colab-df-convert:hover {\n",
              "      background-color: #434B5C;\n",
              "      box-shadow: 0px 1px 3px 1px rgba(0, 0, 0, 0.15);\n",
              "      filter: drop-shadow(0px 1px 2px rgba(0, 0, 0, 0.3));\n",
              "      fill: #FFFFFF;\n",
              "    }\n",
              "  </style>\n",
              "\n",
              "    <script>\n",
              "      const buttonEl =\n",
              "        document.querySelector('#df-78dec034-0380-4de0-8e56-a8cfc8accc70 button.colab-df-convert');\n",
              "      buttonEl.style.display =\n",
              "        google.colab.kernel.accessAllowed ? 'block' : 'none';\n",
              "\n",
              "      async function convertToInteractive(key) {\n",
              "        const element = document.querySelector('#df-78dec034-0380-4de0-8e56-a8cfc8accc70');\n",
              "        const dataTable =\n",
              "          await google.colab.kernel.invokeFunction('convertToInteractive',\n",
              "                                                    [key], {});\n",
              "        if (!dataTable) return;\n",
              "\n",
              "        const docLinkHtml = 'Like what you see? Visit the ' +\n",
              "          '<a target=\"_blank\" href=https://colab.research.google.com/notebooks/data_table.ipynb>data table notebook</a>'\n",
              "          + ' to learn more about interactive tables.';\n",
              "        element.innerHTML = '';\n",
              "        dataTable['output_type'] = 'display_data';\n",
              "        await google.colab.output.renderOutput(dataTable, element);\n",
              "        const docLink = document.createElement('div');\n",
              "        docLink.innerHTML = docLinkHtml;\n",
              "        element.appendChild(docLink);\n",
              "      }\n",
              "    </script>\n",
              "  </div>\n",
              "\n",
              "\n",
              "<div id=\"df-648beb67-6772-4de7-a43d-e3232536e5cb\">\n",
              "  <button class=\"colab-df-quickchart\" onclick=\"quickchart('df-648beb67-6772-4de7-a43d-e3232536e5cb')\"\n",
              "            title=\"Suggest charts\"\n",
              "            style=\"display:none;\">\n",
              "\n",
              "<svg xmlns=\"http://www.w3.org/2000/svg\" height=\"24px\"viewBox=\"0 0 24 24\"\n",
              "     width=\"24px\">\n",
              "    <g>\n",
              "        <path d=\"M19 3H5c-1.1 0-2 .9-2 2v14c0 1.1.9 2 2 2h14c1.1 0 2-.9 2-2V5c0-1.1-.9-2-2-2zM9 17H7v-7h2v7zm4 0h-2V7h2v10zm4 0h-2v-4h2v4z\"/>\n",
              "    </g>\n",
              "</svg>\n",
              "  </button>\n",
              "\n",
              "<style>\n",
              "  .colab-df-quickchart {\n",
              "      --bg-color: #E8F0FE;\n",
              "      --fill-color: #1967D2;\n",
              "      --hover-bg-color: #E2EBFA;\n",
              "      --hover-fill-color: #174EA6;\n",
              "      --disabled-fill-color: #AAA;\n",
              "      --disabled-bg-color: #DDD;\n",
              "  }\n",
              "\n",
              "  [theme=dark] .colab-df-quickchart {\n",
              "      --bg-color: #3B4455;\n",
              "      --fill-color: #D2E3FC;\n",
              "      --hover-bg-color: #434B5C;\n",
              "      --hover-fill-color: #FFFFFF;\n",
              "      --disabled-bg-color: #3B4455;\n",
              "      --disabled-fill-color: #666;\n",
              "  }\n",
              "\n",
              "  .colab-df-quickchart {\n",
              "    background-color: var(--bg-color);\n",
              "    border: none;\n",
              "    border-radius: 50%;\n",
              "    cursor: pointer;\n",
              "    display: none;\n",
              "    fill: var(--fill-color);\n",
              "    height: 32px;\n",
              "    padding: 0;\n",
              "    width: 32px;\n",
              "  }\n",
              "\n",
              "  .colab-df-quickchart:hover {\n",
              "    background-color: var(--hover-bg-color);\n",
              "    box-shadow: 0 1px 2px rgba(60, 64, 67, 0.3), 0 1px 3px 1px rgba(60, 64, 67, 0.15);\n",
              "    fill: var(--button-hover-fill-color);\n",
              "  }\n",
              "\n",
              "  .colab-df-quickchart-complete:disabled,\n",
              "  .colab-df-quickchart-complete:disabled:hover {\n",
              "    background-color: var(--disabled-bg-color);\n",
              "    fill: var(--disabled-fill-color);\n",
              "    box-shadow: none;\n",
              "  }\n",
              "\n",
              "  .colab-df-spinner {\n",
              "    border: 2px solid var(--fill-color);\n",
              "    border-color: transparent;\n",
              "    border-bottom-color: var(--fill-color);\n",
              "    animation:\n",
              "      spin 1s steps(1) infinite;\n",
              "  }\n",
              "\n",
              "  @keyframes spin {\n",
              "    0% {\n",
              "      border-color: transparent;\n",
              "      border-bottom-color: var(--fill-color);\n",
              "      border-left-color: var(--fill-color);\n",
              "    }\n",
              "    20% {\n",
              "      border-color: transparent;\n",
              "      border-left-color: var(--fill-color);\n",
              "      border-top-color: var(--fill-color);\n",
              "    }\n",
              "    30% {\n",
              "      border-color: transparent;\n",
              "      border-left-color: var(--fill-color);\n",
              "      border-top-color: var(--fill-color);\n",
              "      border-right-color: var(--fill-color);\n",
              "    }\n",
              "    40% {\n",
              "      border-color: transparent;\n",
              "      border-right-color: var(--fill-color);\n",
              "      border-top-color: var(--fill-color);\n",
              "    }\n",
              "    60% {\n",
              "      border-color: transparent;\n",
              "      border-right-color: var(--fill-color);\n",
              "    }\n",
              "    80% {\n",
              "      border-color: transparent;\n",
              "      border-right-color: var(--fill-color);\n",
              "      border-bottom-color: var(--fill-color);\n",
              "    }\n",
              "    90% {\n",
              "      border-color: transparent;\n",
              "      border-bottom-color: var(--fill-color);\n",
              "    }\n",
              "  }\n",
              "</style>\n",
              "\n",
              "  <script>\n",
              "    async function quickchart(key) {\n",
              "      const quickchartButtonEl =\n",
              "        document.querySelector('#' + key + ' button');\n",
              "      quickchartButtonEl.disabled = true;  // To prevent multiple clicks.\n",
              "      quickchartButtonEl.classList.add('colab-df-spinner');\n",
              "      try {\n",
              "        const charts = await google.colab.kernel.invokeFunction(\n",
              "            'suggestCharts', [key], {});\n",
              "      } catch (error) {\n",
              "        console.error('Error during call to suggestCharts:', error);\n",
              "      }\n",
              "      quickchartButtonEl.classList.remove('colab-df-spinner');\n",
              "      quickchartButtonEl.classList.add('colab-df-quickchart-complete');\n",
              "    }\n",
              "    (() => {\n",
              "      let quickchartButtonEl =\n",
              "        document.querySelector('#df-648beb67-6772-4de7-a43d-e3232536e5cb button');\n",
              "      quickchartButtonEl.style.display =\n",
              "        google.colab.kernel.accessAllowed ? 'block' : 'none';\n",
              "    })();\n",
              "  </script>\n",
              "</div>\n",
              "\n",
              "  <div id=\"id_e42f5afd-654d-4dd8-873d-bc01ee4b03d1\">\n",
              "    <style>\n",
              "      .colab-df-generate {\n",
              "        background-color: #E8F0FE;\n",
              "        border: none;\n",
              "        border-radius: 50%;\n",
              "        cursor: pointer;\n",
              "        display: none;\n",
              "        fill: #1967D2;\n",
              "        height: 32px;\n",
              "        padding: 0 0 0 0;\n",
              "        width: 32px;\n",
              "      }\n",
              "\n",
              "      .colab-df-generate:hover {\n",
              "        background-color: #E2EBFA;\n",
              "        box-shadow: 0px 1px 2px rgba(60, 64, 67, 0.3), 0px 1px 3px 1px rgba(60, 64, 67, 0.15);\n",
              "        fill: #174EA6;\n",
              "      }\n",
              "\n",
              "      [theme=dark] .colab-df-generate {\n",
              "        background-color: #3B4455;\n",
              "        fill: #D2E3FC;\n",
              "      }\n",
              "\n",
              "      [theme=dark] .colab-df-generate:hover {\n",
              "        background-color: #434B5C;\n",
              "        box-shadow: 0px 1px 3px 1px rgba(0, 0, 0, 0.15);\n",
              "        filter: drop-shadow(0px 1px 2px rgba(0, 0, 0, 0.3));\n",
              "        fill: #FFFFFF;\n",
              "      }\n",
              "    </style>\n",
              "    <button class=\"colab-df-generate\" onclick=\"generateWithVariable('sales_df')\"\n",
              "            title=\"Generate code using this dataframe.\"\n",
              "            style=\"display:none;\">\n",
              "\n",
              "  <svg xmlns=\"http://www.w3.org/2000/svg\" height=\"24px\"viewBox=\"0 0 24 24\"\n",
              "       width=\"24px\">\n",
              "    <path d=\"M7,19H8.4L18.45,9,17,7.55,7,17.6ZM5,21V16.75L18.45,3.32a2,2,0,0,1,2.83,0l1.4,1.43a1.91,1.91,0,0,1,.58,1.4,1.91,1.91,0,0,1-.58,1.4L9.25,21ZM18.45,9,17,7.55Zm-12,3A5.31,5.31,0,0,0,4.9,8.1,5.31,5.31,0,0,0,1,6.5,5.31,5.31,0,0,0,4.9,4.9,5.31,5.31,0,0,0,6.5,1,5.31,5.31,0,0,0,8.1,4.9,5.31,5.31,0,0,0,12,6.5,5.46,5.46,0,0,0,6.5,12Z\"/>\n",
              "  </svg>\n",
              "    </button>\n",
              "    <script>\n",
              "      (() => {\n",
              "      const buttonEl =\n",
              "        document.querySelector('#id_e42f5afd-654d-4dd8-873d-bc01ee4b03d1 button.colab-df-generate');\n",
              "      buttonEl.style.display =\n",
              "        google.colab.kernel.accessAllowed ? 'block' : 'none';\n",
              "\n",
              "      buttonEl.onclick = () => {\n",
              "        google.colab.notebook.generateWithVariable('sales_df');\n",
              "      }\n",
              "      })();\n",
              "    </script>\n",
              "  </div>\n",
              "\n",
              "    </div>\n",
              "  </div>\n"
            ],
            "application/vnd.google.colaboratory.intrinsic+json": {
              "type": "dataframe",
              "variable_name": "sales_df",
              "summary": "{\n  \"name\": \"sales_df\",\n  \"rows\": 83488,\n  \"fields\": [\n    {\n      \"column\": \"date\",\n      \"properties\": {\n        \"dtype\": \"string\",\n        \"num_unique_values\": 1682,\n        \"samples\": [\n          \"2016-10-30\",\n          \"2015-01-16\",\n          \"2017-05-31\"\n        ],\n        \"semantic_type\": \"\",\n        \"description\": \"\"\n      }\n    },\n    {\n      \"column\": \"store_nbr\",\n      \"properties\": {\n        \"dtype\": \"number\",\n        \"std\": 15,\n        \"min\": 1,\n        \"max\": 54,\n        \"num_unique_values\": 54,\n        \"samples\": [\n          19,\n          29,\n          20\n        ],\n        \"semantic_type\": \"\",\n        \"description\": \"\"\n      }\n    },\n    {\n      \"column\": \"transactions\",\n      \"properties\": {\n        \"dtype\": \"number\",\n        \"std\": 963,\n        \"min\": 5,\n        \"max\": 8359,\n        \"num_unique_values\": 4993,\n        \"samples\": [\n          4059,\n          3288,\n          2807\n        ],\n        \"semantic_type\": \"\",\n        \"description\": \"\"\n      }\n    }\n  ]\n}"
            }
          },
          "metadata": {},
          "execution_count": 4
        }
      ]
    },
    {
      "cell_type": "code",
      "source": [
        "sales_df.drop(index=0,inplace=True) #There is only one sales info at 2013-01-01. I am deleting this data because of that.\n",
        "sales_df[\"date\"] = pd.to_datetime(sales_df[\"date\"]) #Converting date column to datetime format\n",
        "#Gathering all transactions of the all stores for each day.\n",
        "sales_df = sales_df.groupby(\"date\",as_index=False).agg({\"transactions\":\"sum\"})\n",
        "#I added some columns for deep learning and machine learning techniques.\n",
        "#Firstly, national holidays are added.\n",
        "holidays_df = dd.read_csv(\"holidays_events.csv\")\n",
        "holidays_df = holidays_df.compute()\n",
        "holidays_df.drop(columns=[\"type\",\"locale_name\",\"description\",\"transferred\"],inplace=True)\n",
        "holidays_df = holidays_df[holidays_df['locale'] == 'National']\n",
        "sales_df['is_holiday'] = sales_df['date'].isin(holidays_df['date']).astype(int)\n",
        "#Here, I added a column to the table that contains the average up to a specific day in the past\n",
        "for window in [3, 7, 30]:\n",
        "    sales_df[f'past_rolling_mean_{window}'] = sales_df['transactions'].rolling(window).mean().shift(1)\n",
        "\n",
        "#Creating lags\n",
        "for lag in range(1, 61):\n",
        "    sales_df[f'lag_{lag}'] = sales_df['transactions'].shift(lag)\n",
        "\n",
        "#Seperating date to year, month and day\n",
        "sales_df['year'] = sales_df['date'].dt.year\n",
        "sales_df['month'] = sales_df['date'].dt.month\n",
        "sales_df['day'] = sales_df['date'].dt.day"
      ],
      "metadata": {
        "id": "kKZ6tcCAU28a"
      },
      "execution_count": 5,
      "outputs": []
    },
    {
      "cell_type": "code",
      "source": [
        "sales_df.dropna(inplace=True)\n",
        "sales_df"
      ],
      "metadata": {
        "colab": {
          "base_uri": "https://localhost:8080/",
          "height": 617
        },
        "id": "wac2FbDjWKuB",
        "outputId": "868ae5eb-b426-491c-bebe-280a7f2489df"
      },
      "execution_count": 6,
      "outputs": [
        {
          "output_type": "execute_result",
          "data": {
            "text/plain": [
              "           date  transactions  is_holiday  past_rolling_mean_3  \\\n",
              "60   2013-03-03         92716           0         82652.666667   \n",
              "61   2013-03-04         79078           0         90285.333333   \n",
              "62   2013-03-05         75134           0         90136.666667   \n",
              "63   2013-03-06         76519           0         82309.333333   \n",
              "64   2013-03-07         73910           0         76910.333333   \n",
              "...         ...           ...         ...                  ...   \n",
              "1676 2017-08-11         89551           1         83979.333333   \n",
              "1677 2017-08-12         89927           0         86022.333333   \n",
              "1678 2017-08-13         85993           0         87514.000000   \n",
              "1679 2017-08-14         85448           0         88490.333333   \n",
              "1680 2017-08-15         86561           0         87122.666667   \n",
              "\n",
              "      past_rolling_mean_7  past_rolling_mean_30    lag_1    lag_2    lag_3  \\\n",
              "60           77589.428571          78258.500000  98616.0  79524.0  69818.0   \n",
              "61           78816.714286          78738.966667  92716.0  98616.0  79524.0   \n",
              "62           79804.000000          78130.000000  79078.0  92716.0  98616.0   \n",
              "63           80722.285714          77733.600000  75134.0  79078.0  92716.0   \n",
              "64           81629.285714          77773.233333  76519.0  75134.0  79078.0   \n",
              "...                   ...                   ...      ...      ...      ...   \n",
              "1676         89655.000000          88652.166667  83064.0  85452.0  83422.0   \n",
              "1677         89404.428571          88832.033333  89551.0  83064.0  85452.0   \n",
              "1678         87807.142857          89205.600000  89927.0  89551.0  83064.0   \n",
              "1679         86354.428571          89149.666667  85993.0  89927.0  89551.0   \n",
              "1680         86122.428571          88654.833333  85448.0  85993.0  89927.0   \n",
              "\n",
              "        lag_4  ...   lag_54    lag_55    lag_56    lag_57    lag_58    lag_59  \\\n",
              "60    70170.0  ...  72325.0   75597.0   90464.0   93573.0   78494.0   78504.0   \n",
              "61    69818.0  ...  71971.0   72325.0   75597.0   90464.0   93573.0   78494.0   \n",
              "62    79524.0  ...  66383.0   71971.0   72325.0   75597.0   90464.0   93573.0   \n",
              "63    98616.0  ...  70338.0   66383.0   71971.0   72325.0   75597.0   90464.0   \n",
              "64    92716.0  ...  85511.0   70338.0   66383.0   71971.0   72325.0   75597.0   \n",
              "...       ...  ...      ...       ...       ...       ...       ...       ...   \n",
              "1676  87072.0  ...  99193.0  114201.0   92852.0   81831.0   82752.0   81063.0   \n",
              "1677  83422.0  ...  82891.0   99193.0  114201.0   92852.0   81831.0   82752.0   \n",
              "1678  85452.0  ...  83508.0   82891.0   99193.0  114201.0   92852.0   81831.0   \n",
              "1679  83064.0  ...  82929.0   83508.0   82891.0   99193.0  114201.0   92852.0   \n",
              "1680  89551.0  ...  77639.0   82929.0   83508.0   82891.0   99193.0  114201.0   \n",
              "\n",
              "       lag_60  year  month  day  \n",
              "60    93215.0  2013      3    3  \n",
              "61    78504.0  2013      3    4  \n",
              "62    78494.0  2013      3    5  \n",
              "63    93573.0  2013      3    6  \n",
              "64    90464.0  2013      3    7  \n",
              "...       ...   ...    ...  ...  \n",
              "1676  81080.0  2017      8   11  \n",
              "1677  81063.0  2017      8   12  \n",
              "1678  82752.0  2017      8   13  \n",
              "1679  81831.0  2017      8   14  \n",
              "1680  92852.0  2017      8   15  \n",
              "\n",
              "[1621 rows x 69 columns]"
            ],
            "text/html": [
              "\n",
              "  <div id=\"df-4e293576-2c08-4acf-b65a-98f03e9e6fcb\" class=\"colab-df-container\">\n",
              "    <div>\n",
              "<style scoped>\n",
              "    .dataframe tbody tr th:only-of-type {\n",
              "        vertical-align: middle;\n",
              "    }\n",
              "\n",
              "    .dataframe tbody tr th {\n",
              "        vertical-align: top;\n",
              "    }\n",
              "\n",
              "    .dataframe thead th {\n",
              "        text-align: right;\n",
              "    }\n",
              "</style>\n",
              "<table border=\"1\" class=\"dataframe\">\n",
              "  <thead>\n",
              "    <tr style=\"text-align: right;\">\n",
              "      <th></th>\n",
              "      <th>date</th>\n",
              "      <th>transactions</th>\n",
              "      <th>is_holiday</th>\n",
              "      <th>past_rolling_mean_3</th>\n",
              "      <th>past_rolling_mean_7</th>\n",
              "      <th>past_rolling_mean_30</th>\n",
              "      <th>lag_1</th>\n",
              "      <th>lag_2</th>\n",
              "      <th>lag_3</th>\n",
              "      <th>lag_4</th>\n",
              "      <th>...</th>\n",
              "      <th>lag_54</th>\n",
              "      <th>lag_55</th>\n",
              "      <th>lag_56</th>\n",
              "      <th>lag_57</th>\n",
              "      <th>lag_58</th>\n",
              "      <th>lag_59</th>\n",
              "      <th>lag_60</th>\n",
              "      <th>year</th>\n",
              "      <th>month</th>\n",
              "      <th>day</th>\n",
              "    </tr>\n",
              "  </thead>\n",
              "  <tbody>\n",
              "    <tr>\n",
              "      <th>60</th>\n",
              "      <td>2013-03-03</td>\n",
              "      <td>92716</td>\n",
              "      <td>0</td>\n",
              "      <td>82652.666667</td>\n",
              "      <td>77589.428571</td>\n",
              "      <td>78258.500000</td>\n",
              "      <td>98616.0</td>\n",
              "      <td>79524.0</td>\n",
              "      <td>69818.0</td>\n",
              "      <td>70170.0</td>\n",
              "      <td>...</td>\n",
              "      <td>72325.0</td>\n",
              "      <td>75597.0</td>\n",
              "      <td>90464.0</td>\n",
              "      <td>93573.0</td>\n",
              "      <td>78494.0</td>\n",
              "      <td>78504.0</td>\n",
              "      <td>93215.0</td>\n",
              "      <td>2013</td>\n",
              "      <td>3</td>\n",
              "      <td>3</td>\n",
              "    </tr>\n",
              "    <tr>\n",
              "      <th>61</th>\n",
              "      <td>2013-03-04</td>\n",
              "      <td>79078</td>\n",
              "      <td>0</td>\n",
              "      <td>90285.333333</td>\n",
              "      <td>78816.714286</td>\n",
              "      <td>78738.966667</td>\n",
              "      <td>92716.0</td>\n",
              "      <td>98616.0</td>\n",
              "      <td>79524.0</td>\n",
              "      <td>69818.0</td>\n",
              "      <td>...</td>\n",
              "      <td>71971.0</td>\n",
              "      <td>72325.0</td>\n",
              "      <td>75597.0</td>\n",
              "      <td>90464.0</td>\n",
              "      <td>93573.0</td>\n",
              "      <td>78494.0</td>\n",
              "      <td>78504.0</td>\n",
              "      <td>2013</td>\n",
              "      <td>3</td>\n",
              "      <td>4</td>\n",
              "    </tr>\n",
              "    <tr>\n",
              "      <th>62</th>\n",
              "      <td>2013-03-05</td>\n",
              "      <td>75134</td>\n",
              "      <td>0</td>\n",
              "      <td>90136.666667</td>\n",
              "      <td>79804.000000</td>\n",
              "      <td>78130.000000</td>\n",
              "      <td>79078.0</td>\n",
              "      <td>92716.0</td>\n",
              "      <td>98616.0</td>\n",
              "      <td>79524.0</td>\n",
              "      <td>...</td>\n",
              "      <td>66383.0</td>\n",
              "      <td>71971.0</td>\n",
              "      <td>72325.0</td>\n",
              "      <td>75597.0</td>\n",
              "      <td>90464.0</td>\n",
              "      <td>93573.0</td>\n",
              "      <td>78494.0</td>\n",
              "      <td>2013</td>\n",
              "      <td>3</td>\n",
              "      <td>5</td>\n",
              "    </tr>\n",
              "    <tr>\n",
              "      <th>63</th>\n",
              "      <td>2013-03-06</td>\n",
              "      <td>76519</td>\n",
              "      <td>0</td>\n",
              "      <td>82309.333333</td>\n",
              "      <td>80722.285714</td>\n",
              "      <td>77733.600000</td>\n",
              "      <td>75134.0</td>\n",
              "      <td>79078.0</td>\n",
              "      <td>92716.0</td>\n",
              "      <td>98616.0</td>\n",
              "      <td>...</td>\n",
              "      <td>70338.0</td>\n",
              "      <td>66383.0</td>\n",
              "      <td>71971.0</td>\n",
              "      <td>72325.0</td>\n",
              "      <td>75597.0</td>\n",
              "      <td>90464.0</td>\n",
              "      <td>93573.0</td>\n",
              "      <td>2013</td>\n",
              "      <td>3</td>\n",
              "      <td>6</td>\n",
              "    </tr>\n",
              "    <tr>\n",
              "      <th>64</th>\n",
              "      <td>2013-03-07</td>\n",
              "      <td>73910</td>\n",
              "      <td>0</td>\n",
              "      <td>76910.333333</td>\n",
              "      <td>81629.285714</td>\n",
              "      <td>77773.233333</td>\n",
              "      <td>76519.0</td>\n",
              "      <td>75134.0</td>\n",
              "      <td>79078.0</td>\n",
              "      <td>92716.0</td>\n",
              "      <td>...</td>\n",
              "      <td>85511.0</td>\n",
              "      <td>70338.0</td>\n",
              "      <td>66383.0</td>\n",
              "      <td>71971.0</td>\n",
              "      <td>72325.0</td>\n",
              "      <td>75597.0</td>\n",
              "      <td>90464.0</td>\n",
              "      <td>2013</td>\n",
              "      <td>3</td>\n",
              "      <td>7</td>\n",
              "    </tr>\n",
              "    <tr>\n",
              "      <th>...</th>\n",
              "      <td>...</td>\n",
              "      <td>...</td>\n",
              "      <td>...</td>\n",
              "      <td>...</td>\n",
              "      <td>...</td>\n",
              "      <td>...</td>\n",
              "      <td>...</td>\n",
              "      <td>...</td>\n",
              "      <td>...</td>\n",
              "      <td>...</td>\n",
              "      <td>...</td>\n",
              "      <td>...</td>\n",
              "      <td>...</td>\n",
              "      <td>...</td>\n",
              "      <td>...</td>\n",
              "      <td>...</td>\n",
              "      <td>...</td>\n",
              "      <td>...</td>\n",
              "      <td>...</td>\n",
              "      <td>...</td>\n",
              "      <td>...</td>\n",
              "    </tr>\n",
              "    <tr>\n",
              "      <th>1676</th>\n",
              "      <td>2017-08-11</td>\n",
              "      <td>89551</td>\n",
              "      <td>1</td>\n",
              "      <td>83979.333333</td>\n",
              "      <td>89655.000000</td>\n",
              "      <td>88652.166667</td>\n",
              "      <td>83064.0</td>\n",
              "      <td>85452.0</td>\n",
              "      <td>83422.0</td>\n",
              "      <td>87072.0</td>\n",
              "      <td>...</td>\n",
              "      <td>99193.0</td>\n",
              "      <td>114201.0</td>\n",
              "      <td>92852.0</td>\n",
              "      <td>81831.0</td>\n",
              "      <td>82752.0</td>\n",
              "      <td>81063.0</td>\n",
              "      <td>81080.0</td>\n",
              "      <td>2017</td>\n",
              "      <td>8</td>\n",
              "      <td>11</td>\n",
              "    </tr>\n",
              "    <tr>\n",
              "      <th>1677</th>\n",
              "      <td>2017-08-12</td>\n",
              "      <td>89927</td>\n",
              "      <td>0</td>\n",
              "      <td>86022.333333</td>\n",
              "      <td>89404.428571</td>\n",
              "      <td>88832.033333</td>\n",
              "      <td>89551.0</td>\n",
              "      <td>83064.0</td>\n",
              "      <td>85452.0</td>\n",
              "      <td>83422.0</td>\n",
              "      <td>...</td>\n",
              "      <td>82891.0</td>\n",
              "      <td>99193.0</td>\n",
              "      <td>114201.0</td>\n",
              "      <td>92852.0</td>\n",
              "      <td>81831.0</td>\n",
              "      <td>82752.0</td>\n",
              "      <td>81063.0</td>\n",
              "      <td>2017</td>\n",
              "      <td>8</td>\n",
              "      <td>12</td>\n",
              "    </tr>\n",
              "    <tr>\n",
              "      <th>1678</th>\n",
              "      <td>2017-08-13</td>\n",
              "      <td>85993</td>\n",
              "      <td>0</td>\n",
              "      <td>87514.000000</td>\n",
              "      <td>87807.142857</td>\n",
              "      <td>89205.600000</td>\n",
              "      <td>89927.0</td>\n",
              "      <td>89551.0</td>\n",
              "      <td>83064.0</td>\n",
              "      <td>85452.0</td>\n",
              "      <td>...</td>\n",
              "      <td>83508.0</td>\n",
              "      <td>82891.0</td>\n",
              "      <td>99193.0</td>\n",
              "      <td>114201.0</td>\n",
              "      <td>92852.0</td>\n",
              "      <td>81831.0</td>\n",
              "      <td>82752.0</td>\n",
              "      <td>2017</td>\n",
              "      <td>8</td>\n",
              "      <td>13</td>\n",
              "    </tr>\n",
              "    <tr>\n",
              "      <th>1679</th>\n",
              "      <td>2017-08-14</td>\n",
              "      <td>85448</td>\n",
              "      <td>0</td>\n",
              "      <td>88490.333333</td>\n",
              "      <td>86354.428571</td>\n",
              "      <td>89149.666667</td>\n",
              "      <td>85993.0</td>\n",
              "      <td>89927.0</td>\n",
              "      <td>89551.0</td>\n",
              "      <td>83064.0</td>\n",
              "      <td>...</td>\n",
              "      <td>82929.0</td>\n",
              "      <td>83508.0</td>\n",
              "      <td>82891.0</td>\n",
              "      <td>99193.0</td>\n",
              "      <td>114201.0</td>\n",
              "      <td>92852.0</td>\n",
              "      <td>81831.0</td>\n",
              "      <td>2017</td>\n",
              "      <td>8</td>\n",
              "      <td>14</td>\n",
              "    </tr>\n",
              "    <tr>\n",
              "      <th>1680</th>\n",
              "      <td>2017-08-15</td>\n",
              "      <td>86561</td>\n",
              "      <td>0</td>\n",
              "      <td>87122.666667</td>\n",
              "      <td>86122.428571</td>\n",
              "      <td>88654.833333</td>\n",
              "      <td>85448.0</td>\n",
              "      <td>85993.0</td>\n",
              "      <td>89927.0</td>\n",
              "      <td>89551.0</td>\n",
              "      <td>...</td>\n",
              "      <td>77639.0</td>\n",
              "      <td>82929.0</td>\n",
              "      <td>83508.0</td>\n",
              "      <td>82891.0</td>\n",
              "      <td>99193.0</td>\n",
              "      <td>114201.0</td>\n",
              "      <td>92852.0</td>\n",
              "      <td>2017</td>\n",
              "      <td>8</td>\n",
              "      <td>15</td>\n",
              "    </tr>\n",
              "  </tbody>\n",
              "</table>\n",
              "<p>1621 rows × 69 columns</p>\n",
              "</div>\n",
              "    <div class=\"colab-df-buttons\">\n",
              "\n",
              "  <div class=\"colab-df-container\">\n",
              "    <button class=\"colab-df-convert\" onclick=\"convertToInteractive('df-4e293576-2c08-4acf-b65a-98f03e9e6fcb')\"\n",
              "            title=\"Convert this dataframe to an interactive table.\"\n",
              "            style=\"display:none;\">\n",
              "\n",
              "  <svg xmlns=\"http://www.w3.org/2000/svg\" height=\"24px\" viewBox=\"0 -960 960 960\">\n",
              "    <path d=\"M120-120v-720h720v720H120Zm60-500h600v-160H180v160Zm220 220h160v-160H400v160Zm0 220h160v-160H400v160ZM180-400h160v-160H180v160Zm440 0h160v-160H620v160ZM180-180h160v-160H180v160Zm440 0h160v-160H620v160Z\"/>\n",
              "  </svg>\n",
              "    </button>\n",
              "\n",
              "  <style>\n",
              "    .colab-df-container {\n",
              "      display:flex;\n",
              "      gap: 12px;\n",
              "    }\n",
              "\n",
              "    .colab-df-convert {\n",
              "      background-color: #E8F0FE;\n",
              "      border: none;\n",
              "      border-radius: 50%;\n",
              "      cursor: pointer;\n",
              "      display: none;\n",
              "      fill: #1967D2;\n",
              "      height: 32px;\n",
              "      padding: 0 0 0 0;\n",
              "      width: 32px;\n",
              "    }\n",
              "\n",
              "    .colab-df-convert:hover {\n",
              "      background-color: #E2EBFA;\n",
              "      box-shadow: 0px 1px 2px rgba(60, 64, 67, 0.3), 0px 1px 3px 1px rgba(60, 64, 67, 0.15);\n",
              "      fill: #174EA6;\n",
              "    }\n",
              "\n",
              "    .colab-df-buttons div {\n",
              "      margin-bottom: 4px;\n",
              "    }\n",
              "\n",
              "    [theme=dark] .colab-df-convert {\n",
              "      background-color: #3B4455;\n",
              "      fill: #D2E3FC;\n",
              "    }\n",
              "\n",
              "    [theme=dark] .colab-df-convert:hover {\n",
              "      background-color: #434B5C;\n",
              "      box-shadow: 0px 1px 3px 1px rgba(0, 0, 0, 0.15);\n",
              "      filter: drop-shadow(0px 1px 2px rgba(0, 0, 0, 0.3));\n",
              "      fill: #FFFFFF;\n",
              "    }\n",
              "  </style>\n",
              "\n",
              "    <script>\n",
              "      const buttonEl =\n",
              "        document.querySelector('#df-4e293576-2c08-4acf-b65a-98f03e9e6fcb button.colab-df-convert');\n",
              "      buttonEl.style.display =\n",
              "        google.colab.kernel.accessAllowed ? 'block' : 'none';\n",
              "\n",
              "      async function convertToInteractive(key) {\n",
              "        const element = document.querySelector('#df-4e293576-2c08-4acf-b65a-98f03e9e6fcb');\n",
              "        const dataTable =\n",
              "          await google.colab.kernel.invokeFunction('convertToInteractive',\n",
              "                                                    [key], {});\n",
              "        if (!dataTable) return;\n",
              "\n",
              "        const docLinkHtml = 'Like what you see? Visit the ' +\n",
              "          '<a target=\"_blank\" href=https://colab.research.google.com/notebooks/data_table.ipynb>data table notebook</a>'\n",
              "          + ' to learn more about interactive tables.';\n",
              "        element.innerHTML = '';\n",
              "        dataTable['output_type'] = 'display_data';\n",
              "        await google.colab.output.renderOutput(dataTable, element);\n",
              "        const docLink = document.createElement('div');\n",
              "        docLink.innerHTML = docLinkHtml;\n",
              "        element.appendChild(docLink);\n",
              "      }\n",
              "    </script>\n",
              "  </div>\n",
              "\n",
              "\n",
              "<div id=\"df-fa54a3f4-e796-4316-931f-6dea55fdf596\">\n",
              "  <button class=\"colab-df-quickchart\" onclick=\"quickchart('df-fa54a3f4-e796-4316-931f-6dea55fdf596')\"\n",
              "            title=\"Suggest charts\"\n",
              "            style=\"display:none;\">\n",
              "\n",
              "<svg xmlns=\"http://www.w3.org/2000/svg\" height=\"24px\"viewBox=\"0 0 24 24\"\n",
              "     width=\"24px\">\n",
              "    <g>\n",
              "        <path d=\"M19 3H5c-1.1 0-2 .9-2 2v14c0 1.1.9 2 2 2h14c1.1 0 2-.9 2-2V5c0-1.1-.9-2-2-2zM9 17H7v-7h2v7zm4 0h-2V7h2v10zm4 0h-2v-4h2v4z\"/>\n",
              "    </g>\n",
              "</svg>\n",
              "  </button>\n",
              "\n",
              "<style>\n",
              "  .colab-df-quickchart {\n",
              "      --bg-color: #E8F0FE;\n",
              "      --fill-color: #1967D2;\n",
              "      --hover-bg-color: #E2EBFA;\n",
              "      --hover-fill-color: #174EA6;\n",
              "      --disabled-fill-color: #AAA;\n",
              "      --disabled-bg-color: #DDD;\n",
              "  }\n",
              "\n",
              "  [theme=dark] .colab-df-quickchart {\n",
              "      --bg-color: #3B4455;\n",
              "      --fill-color: #D2E3FC;\n",
              "      --hover-bg-color: #434B5C;\n",
              "      --hover-fill-color: #FFFFFF;\n",
              "      --disabled-bg-color: #3B4455;\n",
              "      --disabled-fill-color: #666;\n",
              "  }\n",
              "\n",
              "  .colab-df-quickchart {\n",
              "    background-color: var(--bg-color);\n",
              "    border: none;\n",
              "    border-radius: 50%;\n",
              "    cursor: pointer;\n",
              "    display: none;\n",
              "    fill: var(--fill-color);\n",
              "    height: 32px;\n",
              "    padding: 0;\n",
              "    width: 32px;\n",
              "  }\n",
              "\n",
              "  .colab-df-quickchart:hover {\n",
              "    background-color: var(--hover-bg-color);\n",
              "    box-shadow: 0 1px 2px rgba(60, 64, 67, 0.3), 0 1px 3px 1px rgba(60, 64, 67, 0.15);\n",
              "    fill: var(--button-hover-fill-color);\n",
              "  }\n",
              "\n",
              "  .colab-df-quickchart-complete:disabled,\n",
              "  .colab-df-quickchart-complete:disabled:hover {\n",
              "    background-color: var(--disabled-bg-color);\n",
              "    fill: var(--disabled-fill-color);\n",
              "    box-shadow: none;\n",
              "  }\n",
              "\n",
              "  .colab-df-spinner {\n",
              "    border: 2px solid var(--fill-color);\n",
              "    border-color: transparent;\n",
              "    border-bottom-color: var(--fill-color);\n",
              "    animation:\n",
              "      spin 1s steps(1) infinite;\n",
              "  }\n",
              "\n",
              "  @keyframes spin {\n",
              "    0% {\n",
              "      border-color: transparent;\n",
              "      border-bottom-color: var(--fill-color);\n",
              "      border-left-color: var(--fill-color);\n",
              "    }\n",
              "    20% {\n",
              "      border-color: transparent;\n",
              "      border-left-color: var(--fill-color);\n",
              "      border-top-color: var(--fill-color);\n",
              "    }\n",
              "    30% {\n",
              "      border-color: transparent;\n",
              "      border-left-color: var(--fill-color);\n",
              "      border-top-color: var(--fill-color);\n",
              "      border-right-color: var(--fill-color);\n",
              "    }\n",
              "    40% {\n",
              "      border-color: transparent;\n",
              "      border-right-color: var(--fill-color);\n",
              "      border-top-color: var(--fill-color);\n",
              "    }\n",
              "    60% {\n",
              "      border-color: transparent;\n",
              "      border-right-color: var(--fill-color);\n",
              "    }\n",
              "    80% {\n",
              "      border-color: transparent;\n",
              "      border-right-color: var(--fill-color);\n",
              "      border-bottom-color: var(--fill-color);\n",
              "    }\n",
              "    90% {\n",
              "      border-color: transparent;\n",
              "      border-bottom-color: var(--fill-color);\n",
              "    }\n",
              "  }\n",
              "</style>\n",
              "\n",
              "  <script>\n",
              "    async function quickchart(key) {\n",
              "      const quickchartButtonEl =\n",
              "        document.querySelector('#' + key + ' button');\n",
              "      quickchartButtonEl.disabled = true;  // To prevent multiple clicks.\n",
              "      quickchartButtonEl.classList.add('colab-df-spinner');\n",
              "      try {\n",
              "        const charts = await google.colab.kernel.invokeFunction(\n",
              "            'suggestCharts', [key], {});\n",
              "      } catch (error) {\n",
              "        console.error('Error during call to suggestCharts:', error);\n",
              "      }\n",
              "      quickchartButtonEl.classList.remove('colab-df-spinner');\n",
              "      quickchartButtonEl.classList.add('colab-df-quickchart-complete');\n",
              "    }\n",
              "    (() => {\n",
              "      let quickchartButtonEl =\n",
              "        document.querySelector('#df-fa54a3f4-e796-4316-931f-6dea55fdf596 button');\n",
              "      quickchartButtonEl.style.display =\n",
              "        google.colab.kernel.accessAllowed ? 'block' : 'none';\n",
              "    })();\n",
              "  </script>\n",
              "</div>\n",
              "\n",
              "  <div id=\"id_0cd479e7-e3cb-4a13-9740-4cadf2a7efdf\">\n",
              "    <style>\n",
              "      .colab-df-generate {\n",
              "        background-color: #E8F0FE;\n",
              "        border: none;\n",
              "        border-radius: 50%;\n",
              "        cursor: pointer;\n",
              "        display: none;\n",
              "        fill: #1967D2;\n",
              "        height: 32px;\n",
              "        padding: 0 0 0 0;\n",
              "        width: 32px;\n",
              "      }\n",
              "\n",
              "      .colab-df-generate:hover {\n",
              "        background-color: #E2EBFA;\n",
              "        box-shadow: 0px 1px 2px rgba(60, 64, 67, 0.3), 0px 1px 3px 1px rgba(60, 64, 67, 0.15);\n",
              "        fill: #174EA6;\n",
              "      }\n",
              "\n",
              "      [theme=dark] .colab-df-generate {\n",
              "        background-color: #3B4455;\n",
              "        fill: #D2E3FC;\n",
              "      }\n",
              "\n",
              "      [theme=dark] .colab-df-generate:hover {\n",
              "        background-color: #434B5C;\n",
              "        box-shadow: 0px 1px 3px 1px rgba(0, 0, 0, 0.15);\n",
              "        filter: drop-shadow(0px 1px 2px rgba(0, 0, 0, 0.3));\n",
              "        fill: #FFFFFF;\n",
              "      }\n",
              "    </style>\n",
              "    <button class=\"colab-df-generate\" onclick=\"generateWithVariable('sales_df')\"\n",
              "            title=\"Generate code using this dataframe.\"\n",
              "            style=\"display:none;\">\n",
              "\n",
              "  <svg xmlns=\"http://www.w3.org/2000/svg\" height=\"24px\"viewBox=\"0 0 24 24\"\n",
              "       width=\"24px\">\n",
              "    <path d=\"M7,19H8.4L18.45,9,17,7.55,7,17.6ZM5,21V16.75L18.45,3.32a2,2,0,0,1,2.83,0l1.4,1.43a1.91,1.91,0,0,1,.58,1.4,1.91,1.91,0,0,1-.58,1.4L9.25,21ZM18.45,9,17,7.55Zm-12,3A5.31,5.31,0,0,0,4.9,8.1,5.31,5.31,0,0,0,1,6.5,5.31,5.31,0,0,0,4.9,4.9,5.31,5.31,0,0,0,6.5,1,5.31,5.31,0,0,0,8.1,4.9,5.31,5.31,0,0,0,12,6.5,5.46,5.46,0,0,0,6.5,12Z\"/>\n",
              "  </svg>\n",
              "    </button>\n",
              "    <script>\n",
              "      (() => {\n",
              "      const buttonEl =\n",
              "        document.querySelector('#id_0cd479e7-e3cb-4a13-9740-4cadf2a7efdf button.colab-df-generate');\n",
              "      buttonEl.style.display =\n",
              "        google.colab.kernel.accessAllowed ? 'block' : 'none';\n",
              "\n",
              "      buttonEl.onclick = () => {\n",
              "        google.colab.notebook.generateWithVariable('sales_df');\n",
              "      }\n",
              "      })();\n",
              "    </script>\n",
              "  </div>\n",
              "\n",
              "    </div>\n",
              "  </div>\n"
            ],
            "application/vnd.google.colaboratory.intrinsic+json": {
              "type": "dataframe",
              "variable_name": "sales_df"
            }
          },
          "metadata": {},
          "execution_count": 6
        }
      ]
    },
    {
      "cell_type": "markdown",
      "source": [
        "# Method 1\n",
        "\n",
        "In this method, the data set is splitted as %70 Train, %15 Validation, and %15 Test Sets. The purpose of this method is forecasting to next days.\n",
        "\n",
        "For example:\n",
        "\n",
        "The train set is include 01.01.16 to 31.01.16 Validation is similar with fewer.\n",
        "The test set will be like 10.02.17 to 17.02.17."
      ],
      "metadata": {
        "id": "6TutP-LkWxGZ"
      }
    },
    {
      "cell_type": "code",
      "source": [
        "data_len = len(sales_df)\n",
        "train_end = int(data_len * 0.7)\n",
        "val_end = int(data_len * 0.85)  # %70 + %15 = %85\n",
        "\"\"\"The reason for that there could be data loss between data sets\n",
        "because we are multiplying with double and rooling to int.\n",
        "\n",
        "Otherwise, train_end can be 105 and val_start can be 107(example)\n",
        "(the problem generally occur in multiple in 10)\n",
        "\"\"\""
      ],
      "metadata": {
        "id": "f4fi5T53Xe0Y",
        "colab": {
          "base_uri": "https://localhost:8080/",
          "height": 55
        },
        "outputId": "da034bc1-9917-4d4a-810a-1e6b20fe3fed"
      },
      "execution_count": 7,
      "outputs": [
        {
          "output_type": "execute_result",
          "data": {
            "text/plain": [
              "'The reason for that there could be data loss between data sets\\nbecause we are multiplying with double and rooling to int.\\n\\nOtherwise, train_end can be 105 and val_start can be 107(example)\\n(the problem generally occur in multiple in 10)\\n'"
            ],
            "application/vnd.google.colaboratory.intrinsic+json": {
              "type": "string"
            }
          },
          "metadata": {},
          "execution_count": 7
        }
      ]
    },
    {
      "cell_type": "code",
      "source": [
        "train_df = sales_df.iloc[:train_end]\n",
        "val_df = sales_df.iloc[train_end:val_end]\n",
        "test_df = sales_df.iloc[val_end:]"
      ],
      "metadata": {
        "id": "bmPbBIAtZe-w"
      },
      "execution_count": 8,
      "outputs": []
    },
    {
      "cell_type": "code",
      "source": [
        "print(f\"Data:{len(sales_df)}, Train: {len(train_df)}, Validation: {len(val_df)}, Test: {len(test_df)},Check = {len(train_df)+len(val_df)+len(test_df)}\")"
      ],
      "metadata": {
        "colab": {
          "base_uri": "https://localhost:8080/"
        },
        "id": "F0MjywWKaJxv",
        "outputId": "1a23ea4c-40c6-4544-e7c1-d023ce333ed4"
      },
      "execution_count": 9,
      "outputs": [
        {
          "output_type": "stream",
          "name": "stdout",
          "text": [
            "Data:1621, Train: 1134, Validation: 243, Test: 244,Check = 1621\n"
          ]
        }
      ]
    },
    {
      "cell_type": "code",
      "source": [
        "def create_sequences(data, seq_length):\n",
        "    xs, ys = [], []\n",
        "    for i in range(len(data) - seq_length):\n",
        "        x = data[i:(i + seq_length)]\n",
        "        y = data[i + seq_length]\n",
        "        xs.append(x)\n",
        "        ys.append(y)\n",
        "    return np.array(xs), np.array(ys)"
      ],
      "metadata": {
        "id": "nPu3pRTSavi3"
      },
      "execution_count": 10,
      "outputs": []
    },
    {
      "cell_type": "code",
      "source": [
        "seq_length = 20\n",
        "X_train, y_train = create_sequences(train_df['transactions'].values, seq_length)\n",
        "X_val, y_val = create_sequences(val_df['transactions'].values, seq_length)\n",
        "X_test, y_test = create_sequences(test_df['transactions'].values, seq_length)"
      ],
      "metadata": {
        "id": "jKK7x_lba9Q-"
      },
      "execution_count": 11,
      "outputs": []
    },
    {
      "cell_type": "code",
      "source": [
        "X_train"
      ],
      "metadata": {
        "colab": {
          "base_uri": "https://localhost:8080/"
        },
        "id": "fQH9yJOubDsF",
        "outputId": "a536243d-d6e2-4294-ff2a-11de09616ef5"
      },
      "execution_count": 12,
      "outputs": [
        {
          "output_type": "execute_result",
          "data": {
            "text/plain": [
              "array([[92716, 79078, 75134, ..., 74145, 69157, 71990],\n",
              "       [79078, 75134, 76519, ..., 69157, 71990, 91923],\n",
              "       [75134, 76519, 73910, ..., 71990, 91923, 83439],\n",
              "       ...,\n",
              "       [82331, 86834, 78832, ..., 97454, 91977, 77860],\n",
              "       [86834, 78832, 91232, ..., 91977, 77860, 82484],\n",
              "       [78832, 91232, 82305, ..., 77860, 82484, 79657]])"
            ]
          },
          "metadata": {},
          "execution_count": 12
        }
      ]
    },
    {
      "cell_type": "code",
      "source": [
        "y_train"
      ],
      "metadata": {
        "colab": {
          "base_uri": "https://localhost:8080/"
        },
        "id": "474H6kXqbEJ-",
        "outputId": "474959c9-3be8-40a5-9d70-985196ff303a"
      },
      "execution_count": 13,
      "outputs": [
        {
          "output_type": "execute_result",
          "data": {
            "text/plain": [
              "array([91923, 83439, 72992, ..., 82484, 79657, 74291])"
            ]
          },
          "metadata": {},
          "execution_count": 13
        }
      ]
    },
    {
      "cell_type": "code",
      "source": [
        "from sklearn.preprocessing import StandardScaler\n",
        "scaler_X = StandardScaler()\n",
        "X_train_scaled = scaler_X.fit_transform(X_train)\n",
        "X_val_scaled = scaler_X.transform(X_val)\n",
        "X_test_scaled = scaler_X.transform(X_test)"
      ],
      "metadata": {
        "id": "1NuvhyDVj6HA"
      },
      "execution_count": 14,
      "outputs": []
    },
    {
      "cell_type": "code",
      "source": [
        "scaler_y = StandardScaler()\n",
        "y_train_scaled = scaler_y.fit_transform(y_train.reshape(-1, 1))\n",
        "y_val_scaled = scaler_y.fit_transform(y_val.reshape(-1, 1))"
      ],
      "metadata": {
        "id": "aaT5T8rPliD3"
      },
      "execution_count": 15,
      "outputs": []
    },
    {
      "cell_type": "code",
      "source": [
        "X_train_scaled = X_train_scaled.reshape((X_train_scaled.shape[0], X_train_scaled.shape[1], 1))\n",
        "X_val_scaled = X_val_scaled.reshape((X_val_scaled.shape[0], X_val_scaled.shape[1], 1))\n",
        "X_test_scaled = X_test_scaled.reshape((X_test_scaled.shape[0], X_test_scaled.shape[1], 1))"
      ],
      "metadata": {
        "id": "LxWD7qIXl8GH"
      },
      "execution_count": 16,
      "outputs": []
    },
    {
      "cell_type": "markdown",
      "source": [
        "# LSTM Model"
      ],
      "metadata": {
        "id": "xFApsih-brud"
      }
    },
    {
      "cell_type": "code",
      "source": [
        "from tensorflow.keras.models import Sequential\n",
        "from tensorflow.keras.layers import LSTM, Dense, Dropout\n",
        "from tensorflow.keras.optimizers import Adam\n",
        "from tensorflow.keras.callbacks import EarlyStopping, ModelCheckpoint\n",
        "from tensorflow.keras.regularizers import l2\n",
        "from tensorflow.keras.regularizers import l1_l2"
      ],
      "metadata": {
        "id": "Td84eV-_bwKV"
      },
      "execution_count": 17,
      "outputs": []
    },
    {
      "cell_type": "code",
      "source": [
        "model_LSTM_simple = Sequential([\n",
        "    LSTM(32, input_shape=(X_train_scaled.shape[1], 1), kernel_regularizer=l2(0.001)),\n",
        "    Dropout(0.2),\n",
        "    Dense(1)\n",
        "])\n",
        "model_LSTM_simple.compile(optimizer=Adam(0.001), loss='mse', metrics=['mae'])\n",
        "early_stop = EarlyStopping(monitor='val_loss', patience=10, restore_best_weights=True)\n",
        "history_simple = model_LSTM_simple.fit(\n",
        "    X_train_scaled, y_train_scaled,\n",
        "    validation_data=(X_val_scaled, y_val_scaled),\n",
        "    epochs=100,\n",
        "    batch_size=32,\n",
        "    callbacks=[early_stop],\n",
        "    verbose=1\n",
        ")"
      ],
      "metadata": {
        "colab": {
          "base_uri": "https://localhost:8080/"
        },
        "id": "Pc7u1TAkbx6F",
        "outputId": "c8594db5-86ae-46f0-e496-4db8f4a83f86"
      },
      "execution_count": 18,
      "outputs": [
        {
          "output_type": "stream",
          "name": "stderr",
          "text": [
            "UserWarning: Do not pass an `input_shape`/`input_dim` argument to a layer. When using Sequential models, prefer using an `Input(shape)` object as the first layer in the model instead.\n"
          ]
        },
        {
          "output_type": "stream",
          "name": "stdout",
          "text": [
            "Epoch 1/100\n",
            "\u001b[1m35/35\u001b[0m \u001b[32m━━━━━━━━━━━━━━━━━━━━\u001b[0m\u001b[37m\u001b[0m \u001b[1m4s\u001b[0m 19ms/step - loss: 1.1655 - mae: 0.7609 - val_loss: 0.9999 - val_mae: 0.8192\n",
            "Epoch 2/100\n",
            "\u001b[1m35/35\u001b[0m \u001b[32m━━━━━━━━━━━━━━━━━━━━\u001b[0m\u001b[37m\u001b[0m \u001b[1m3s\u001b[0m 7ms/step - loss: 0.7906 - mae: 0.6643 - val_loss: 0.9942 - val_mae: 0.8239\n",
            "Epoch 3/100\n",
            "\u001b[1m35/35\u001b[0m \u001b[32m━━━━━━━━━━━━━━━━━━━━\u001b[0m\u001b[37m\u001b[0m \u001b[1m0s\u001b[0m 7ms/step - loss: 1.0126 - mae: 0.7002 - val_loss: 0.9870 - val_mae: 0.8259\n",
            "Epoch 4/100\n",
            "\u001b[1m35/35\u001b[0m \u001b[32m━━━━━━━━━━━━━━━━━━━━\u001b[0m\u001b[37m\u001b[0m \u001b[1m0s\u001b[0m 6ms/step - loss: 0.8225 - mae: 0.6349 - val_loss: 0.9787 - val_mae: 0.8214\n",
            "Epoch 5/100\n",
            "\u001b[1m35/35\u001b[0m \u001b[32m━━━━━━━━━━━━━━━━━━━━\u001b[0m\u001b[37m\u001b[0m \u001b[1m0s\u001b[0m 7ms/step - loss: 0.8846 - mae: 0.6848 - val_loss: 0.9665 - val_mae: 0.8109\n",
            "Epoch 6/100\n",
            "\u001b[1m35/35\u001b[0m \u001b[32m━━━━━━━━━━━━━━━━━━━━\u001b[0m\u001b[37m\u001b[0m \u001b[1m0s\u001b[0m 6ms/step - loss: 0.8693 - mae: 0.6666 - val_loss: 0.9570 - val_mae: 0.8048\n",
            "Epoch 7/100\n",
            "\u001b[1m35/35\u001b[0m \u001b[32m━━━━━━━━━━━━━━━━━━━━\u001b[0m\u001b[37m\u001b[0m \u001b[1m0s\u001b[0m 8ms/step - loss: 0.6789 - mae: 0.6303 - val_loss: 0.9406 - val_mae: 0.7940\n",
            "Epoch 8/100\n",
            "\u001b[1m35/35\u001b[0m \u001b[32m━━━━━━━━━━━━━━━━━━━━\u001b[0m\u001b[37m\u001b[0m \u001b[1m0s\u001b[0m 11ms/step - loss: 0.7944 - mae: 0.6310 - val_loss: 0.9213 - val_mae: 0.7898\n",
            "Epoch 9/100\n",
            "\u001b[1m35/35\u001b[0m \u001b[32m━━━━━━━━━━━━━━━━━━━━\u001b[0m\u001b[37m\u001b[0m \u001b[1m1s\u001b[0m 10ms/step - loss: 0.7516 - mae: 0.6316 - val_loss: 0.8978 - val_mae: 0.7782\n",
            "Epoch 10/100\n",
            "\u001b[1m35/35\u001b[0m \u001b[32m━━━━━━━━━━━━━━━━━━━━\u001b[0m\u001b[37m\u001b[0m \u001b[1m1s\u001b[0m 11ms/step - loss: 0.5552 - mae: 0.5830 - val_loss: 0.8458 - val_mae: 0.7526\n",
            "Epoch 11/100\n",
            "\u001b[1m35/35\u001b[0m \u001b[32m━━━━━━━━━━━━━━━━━━━━\u001b[0m\u001b[37m\u001b[0m \u001b[1m0s\u001b[0m 9ms/step - loss: 0.6600 - mae: 0.5987 - val_loss: 0.8048 - val_mae: 0.7296\n",
            "Epoch 12/100\n",
            "\u001b[1m35/35\u001b[0m \u001b[32m━━━━━━━━━━━━━━━━━━━━\u001b[0m\u001b[37m\u001b[0m \u001b[1m0s\u001b[0m 7ms/step - loss: 0.5855 - mae: 0.5463 - val_loss: 0.7192 - val_mae: 0.6870\n",
            "Epoch 13/100\n",
            "\u001b[1m35/35\u001b[0m \u001b[32m━━━━━━━━━━━━━━━━━━━━\u001b[0m\u001b[37m\u001b[0m \u001b[1m0s\u001b[0m 7ms/step - loss: 0.5630 - mae: 0.5100 - val_loss: 0.6545 - val_mae: 0.6442\n",
            "Epoch 14/100\n",
            "\u001b[1m35/35\u001b[0m \u001b[32m━━━━━━━━━━━━━━━━━━━━\u001b[0m\u001b[37m\u001b[0m \u001b[1m0s\u001b[0m 7ms/step - loss: 0.4527 - mae: 0.4721 - val_loss: 0.5393 - val_mae: 0.5724\n",
            "Epoch 15/100\n",
            "\u001b[1m35/35\u001b[0m \u001b[32m━━━━━━━━━━━━━━━━━━━━\u001b[0m\u001b[37m\u001b[0m \u001b[1m0s\u001b[0m 9ms/step - loss: 0.3888 - mae: 0.4359 - val_loss: 0.5313 - val_mae: 0.5721\n",
            "Epoch 16/100\n",
            "\u001b[1m35/35\u001b[0m \u001b[32m━━━━━━━━━━━━━━━━━━━━\u001b[0m\u001b[37m\u001b[0m \u001b[1m1s\u001b[0m 14ms/step - loss: 0.4044 - mae: 0.4437 - val_loss: 0.4653 - val_mae: 0.5230\n",
            "Epoch 17/100\n",
            "\u001b[1m35/35\u001b[0m \u001b[32m━━━━━━━━━━━━━━━━━━━━\u001b[0m\u001b[37m\u001b[0m \u001b[1m1s\u001b[0m 23ms/step - loss: 0.4356 - mae: 0.4331 - val_loss: 0.4239 - val_mae: 0.4966\n",
            "Epoch 18/100\n",
            "\u001b[1m35/35\u001b[0m \u001b[32m━━━━━━━━━━━━━━━━━━━━\u001b[0m\u001b[37m\u001b[0m \u001b[1m1s\u001b[0m 13ms/step - loss: 0.4605 - mae: 0.4316 - val_loss: 0.4069 - val_mae: 0.4876\n",
            "Epoch 19/100\n",
            "\u001b[1m35/35\u001b[0m \u001b[32m━━━━━━━━━━━━━━━━━━━━\u001b[0m\u001b[37m\u001b[0m \u001b[1m1s\u001b[0m 17ms/step - loss: 0.4190 - mae: 0.3923 - val_loss: 0.4071 - val_mae: 0.4948\n",
            "Epoch 20/100\n",
            "\u001b[1m35/35\u001b[0m \u001b[32m━━━━━━━━━━━━━━━━━━━━\u001b[0m\u001b[37m\u001b[0m \u001b[1m1s\u001b[0m 22ms/step - loss: 0.4245 - mae: 0.3968 - val_loss: 0.3745 - val_mae: 0.4716\n",
            "Epoch 21/100\n",
            "\u001b[1m35/35\u001b[0m \u001b[32m━━━━━━━━━━━━━━━━━━━━\u001b[0m\u001b[37m\u001b[0m \u001b[1m1s\u001b[0m 16ms/step - loss: 0.5872 - mae: 0.4192 - val_loss: 0.3751 - val_mae: 0.4680\n",
            "Epoch 22/100\n",
            "\u001b[1m35/35\u001b[0m \u001b[32m━━━━━━━━━━━━━━━━━━━━\u001b[0m\u001b[37m\u001b[0m \u001b[1m1s\u001b[0m 17ms/step - loss: 0.3906 - mae: 0.3834 - val_loss: 0.3652 - val_mae: 0.4546\n",
            "Epoch 23/100\n",
            "\u001b[1m35/35\u001b[0m \u001b[32m━━━━━━━━━━━━━━━━━━━━\u001b[0m\u001b[37m\u001b[0m \u001b[1m1s\u001b[0m 16ms/step - loss: 0.3590 - mae: 0.3695 - val_loss: 0.3677 - val_mae: 0.4661\n",
            "Epoch 24/100\n",
            "\u001b[1m35/35\u001b[0m \u001b[32m━━━━━━━━━━━━━━━━━━━━\u001b[0m\u001b[37m\u001b[0m \u001b[1m1s\u001b[0m 13ms/step - loss: 0.3638 - mae: 0.3719 - val_loss: 0.3858 - val_mae: 0.4780\n",
            "Epoch 25/100\n",
            "\u001b[1m35/35\u001b[0m \u001b[32m━━━━━━━━━━━━━━━━━━━━\u001b[0m\u001b[37m\u001b[0m \u001b[1m1s\u001b[0m 15ms/step - loss: 0.4365 - mae: 0.4020 - val_loss: 0.3419 - val_mae: 0.4409\n",
            "Epoch 26/100\n",
            "\u001b[1m35/35\u001b[0m \u001b[32m━━━━━━━━━━━━━━━━━━━━\u001b[0m\u001b[37m\u001b[0m \u001b[1m1s\u001b[0m 16ms/step - loss: 0.3004 - mae: 0.3510 - val_loss: 0.3567 - val_mae: 0.4502\n",
            "Epoch 27/100\n",
            "\u001b[1m35/35\u001b[0m \u001b[32m━━━━━━━━━━━━━━━━━━━━\u001b[0m\u001b[37m\u001b[0m \u001b[1m1s\u001b[0m 16ms/step - loss: 0.3093 - mae: 0.3525 - val_loss: 0.3437 - val_mae: 0.4400\n",
            "Epoch 28/100\n",
            "\u001b[1m35/35\u001b[0m \u001b[32m━━━━━━━━━━━━━━━━━━━━\u001b[0m\u001b[37m\u001b[0m \u001b[1m1s\u001b[0m 27ms/step - loss: 0.3792 - mae: 0.3599 - val_loss: 0.3456 - val_mae: 0.4460\n",
            "Epoch 29/100\n",
            "\u001b[1m35/35\u001b[0m \u001b[32m━━━━━━━━━━━━━━━━━━━━\u001b[0m\u001b[37m\u001b[0m \u001b[1m1s\u001b[0m 21ms/step - loss: 0.3218 - mae: 0.3544 - val_loss: 0.3384 - val_mae: 0.4395\n",
            "Epoch 30/100\n",
            "\u001b[1m35/35\u001b[0m \u001b[32m━━━━━━━━━━━━━━━━━━━━\u001b[0m\u001b[37m\u001b[0m \u001b[1m1s\u001b[0m 16ms/step - loss: 0.3823 - mae: 0.3488 - val_loss: 0.3304 - val_mae: 0.4318\n",
            "Epoch 31/100\n",
            "\u001b[1m35/35\u001b[0m \u001b[32m━━━━━━━━━━━━━━━━━━━━\u001b[0m\u001b[37m\u001b[0m \u001b[1m1s\u001b[0m 14ms/step - loss: 0.3635 - mae: 0.3531 - val_loss: 0.3468 - val_mae: 0.4492\n",
            "Epoch 32/100\n",
            "\u001b[1m35/35\u001b[0m \u001b[32m━━━━━━━━━━━━━━━━━━━━\u001b[0m\u001b[37m\u001b[0m \u001b[1m1s\u001b[0m 13ms/step - loss: 0.3131 - mae: 0.3471 - val_loss: 0.3383 - val_mae: 0.4332\n",
            "Epoch 33/100\n",
            "\u001b[1m35/35\u001b[0m \u001b[32m━━━━━━━━━━━━━━━━━━━━\u001b[0m\u001b[37m\u001b[0m \u001b[1m0s\u001b[0m 12ms/step - loss: 0.2492 - mae: 0.3155 - val_loss: 0.3334 - val_mae: 0.4281\n",
            "Epoch 34/100\n",
            "\u001b[1m35/35\u001b[0m \u001b[32m━━━━━━━━━━━━━━━━━━━━\u001b[0m\u001b[37m\u001b[0m \u001b[1m1s\u001b[0m 15ms/step - loss: 0.2684 - mae: 0.3180 - val_loss: 0.3213 - val_mae: 0.4250\n",
            "Epoch 35/100\n",
            "\u001b[1m35/35\u001b[0m \u001b[32m━━━━━━━━━━━━━━━━━━━━\u001b[0m\u001b[37m\u001b[0m \u001b[1m0s\u001b[0m 12ms/step - loss: 0.3741 - mae: 0.3597 - val_loss: 0.3213 - val_mae: 0.4240\n",
            "Epoch 36/100\n",
            "\u001b[1m35/35\u001b[0m \u001b[32m━━━━━━━━━━━━━━━━━━━━\u001b[0m\u001b[37m\u001b[0m \u001b[1m1s\u001b[0m 14ms/step - loss: 0.3080 - mae: 0.3420 - val_loss: 0.3363 - val_mae: 0.4355\n",
            "Epoch 37/100\n",
            "\u001b[1m35/35\u001b[0m \u001b[32m━━━━━━━━━━━━━━━━━━━━\u001b[0m\u001b[37m\u001b[0m \u001b[1m1s\u001b[0m 15ms/step - loss: 0.2822 - mae: 0.3364 - val_loss: 0.3174 - val_mae: 0.4209\n",
            "Epoch 38/100\n",
            "\u001b[1m35/35\u001b[0m \u001b[32m━━━━━━━━━━━━━━━━━━━━\u001b[0m\u001b[37m\u001b[0m \u001b[1m1s\u001b[0m 13ms/step - loss: 0.3402 - mae: 0.3501 - val_loss: 0.3322 - val_mae: 0.4354\n",
            "Epoch 39/100\n",
            "\u001b[1m35/35\u001b[0m \u001b[32m━━━━━━━━━━━━━━━━━━━━\u001b[0m\u001b[37m\u001b[0m \u001b[1m1s\u001b[0m 11ms/step - loss: 0.2551 - mae: 0.3270 - val_loss: 0.3256 - val_mae: 0.4307\n",
            "Epoch 40/100\n",
            "\u001b[1m35/35\u001b[0m \u001b[32m━━━━━━━━━━━━━━━━━━━━\u001b[0m\u001b[37m\u001b[0m \u001b[1m1s\u001b[0m 11ms/step - loss: 0.2759 - mae: 0.3340 - val_loss: 0.3177 - val_mae: 0.4211\n",
            "Epoch 41/100\n",
            "\u001b[1m35/35\u001b[0m \u001b[32m━━━━━━━━━━━━━━━━━━━━\u001b[0m\u001b[37m\u001b[0m \u001b[1m0s\u001b[0m 11ms/step - loss: 0.3222 - mae: 0.3354 - val_loss: 0.3115 - val_mae: 0.4137\n",
            "Epoch 42/100\n",
            "\u001b[1m35/35\u001b[0m \u001b[32m━━━━━━━━━━━━━━━━━━━━\u001b[0m\u001b[37m\u001b[0m \u001b[1m0s\u001b[0m 14ms/step - loss: 0.2406 - mae: 0.3161 - val_loss: 0.3297 - val_mae: 0.4378\n",
            "Epoch 43/100\n",
            "\u001b[1m35/35\u001b[0m \u001b[32m━━━━━━━━━━━━━━━━━━━━\u001b[0m\u001b[37m\u001b[0m \u001b[1m1s\u001b[0m 12ms/step - loss: 0.2530 - mae: 0.3143 - val_loss: 0.3010 - val_mae: 0.4088\n",
            "Epoch 44/100\n",
            "\u001b[1m35/35\u001b[0m \u001b[32m━━━━━━━━━━━━━━━━━━━━\u001b[0m\u001b[37m\u001b[0m \u001b[1m1s\u001b[0m 17ms/step - loss: 0.2710 - mae: 0.3197 - val_loss: 0.3128 - val_mae: 0.4175\n",
            "Epoch 45/100\n",
            "\u001b[1m35/35\u001b[0m \u001b[32m━━━━━━━━━━━━━━━━━━━━\u001b[0m\u001b[37m\u001b[0m \u001b[1m1s\u001b[0m 17ms/step - loss: 0.3072 - mae: 0.3276 - val_loss: 0.3100 - val_mae: 0.4181\n",
            "Epoch 46/100\n",
            "\u001b[1m35/35\u001b[0m \u001b[32m━━━━━━━━━━━━━━━━━━━━\u001b[0m\u001b[37m\u001b[0m \u001b[1m1s\u001b[0m 22ms/step - loss: 0.3647 - mae: 0.3381 - val_loss: 0.3104 - val_mae: 0.4189\n",
            "Epoch 47/100\n",
            "\u001b[1m35/35\u001b[0m \u001b[32m━━━━━━━━━━━━━━━━━━━━\u001b[0m\u001b[37m\u001b[0m \u001b[1m1s\u001b[0m 20ms/step - loss: 0.2122 - mae: 0.2922 - val_loss: 0.3186 - val_mae: 0.4262\n",
            "Epoch 48/100\n",
            "\u001b[1m35/35\u001b[0m \u001b[32m━━━━━━━━━━━━━━━━━━━━\u001b[0m\u001b[37m\u001b[0m \u001b[1m1s\u001b[0m 15ms/step - loss: 0.2712 - mae: 0.3269 - val_loss: 0.3062 - val_mae: 0.4107\n",
            "Epoch 49/100\n",
            "\u001b[1m35/35\u001b[0m \u001b[32m━━━━━━━━━━━━━━━━━━━━\u001b[0m\u001b[37m\u001b[0m \u001b[1m1s\u001b[0m 14ms/step - loss: 0.2215 - mae: 0.3114 - val_loss: 0.3176 - val_mae: 0.4242\n",
            "Epoch 50/100\n",
            "\u001b[1m35/35\u001b[0m \u001b[32m━━━━━━━━━━━━━━━━━━━━\u001b[0m\u001b[37m\u001b[0m \u001b[1m0s\u001b[0m 12ms/step - loss: 0.2318 - mae: 0.2963 - val_loss: 0.3132 - val_mae: 0.4203\n",
            "Epoch 51/100\n",
            "\u001b[1m35/35\u001b[0m \u001b[32m━━━━━━━━━━━━━━━━━━━━\u001b[0m\u001b[37m\u001b[0m \u001b[1m1s\u001b[0m 18ms/step - loss: 0.3389 - mae: 0.3249 - val_loss: 0.3158 - val_mae: 0.4247\n",
            "Epoch 52/100\n",
            "\u001b[1m35/35\u001b[0m \u001b[32m━━━━━━━━━━━━━━━━━━━━\u001b[0m\u001b[37m\u001b[0m \u001b[1m0s\u001b[0m 7ms/step - loss: 0.2922 - mae: 0.3196 - val_loss: 0.3071 - val_mae: 0.4144\n",
            "Epoch 53/100\n",
            "\u001b[1m35/35\u001b[0m \u001b[32m━━━━━━━━━━━━━━━━━━━━\u001b[0m\u001b[37m\u001b[0m \u001b[1m0s\u001b[0m 8ms/step - loss: 0.3040 - mae: 0.3165 - val_loss: 0.3095 - val_mae: 0.4142\n"
          ]
        }
      ]
    },
    {
      "cell_type": "code",
      "source": [
        "import matplotlib.pyplot as plt\n",
        "\n",
        "plt.figure(figsize=(12,6))\n",
        "plt.plot(history_simple.history['val_loss'], label='Simple Model')\n",
        "plt.legend()\n",
        "plt.title('Validation Loss Comparison of LSTM_Simple')\n",
        "plt.show()"
      ],
      "metadata": {
        "colab": {
          "base_uri": "https://localhost:8080/",
          "height": 545
        },
        "id": "55UgyCjVoMxo",
        "outputId": "389bb422-4257-4825-907c-f6818a19b0fc"
      },
      "execution_count": 19,
      "outputs": [
        {
          "output_type": "display_data",
          "data": {
            "text/plain": [
              "<Figure size 1200x600 with 1 Axes>"
            ],
            "image/png": "[encoded data removed]"
          },
          "metadata": {}
        }
      ]
    },
    {
      "cell_type": "code",
      "source": [
        "from sklearn.metrics import mean_squared_error, mean_absolute_percentage_error, r2_score\n",
        "y_pred_scaled = model_LSTM_simple.predict(X_test_scaled)\n",
        "y_pred_scaled = scaler_y.inverse_transform(y_pred_scaled)\n",
        "y_test = y_test.reshape(-1,1)\n",
        "rmse_lstm_simple = np.sqrt(mean_squared_error(y_test, y_pred_scaled))\n",
        "mape_lstm_simple = mean_absolute_percentage_error(y_test, y_pred_scaled)\n",
        "r2_lstm_simple = r2_score(y_test, y_pred_scaled)\n",
        "print(f\"R^2 is {r2_lstm_simple} \\n RMSE is {rmse_lstm_simple} \\n MAPE is {mape_lstm_simple}\")"
      ],
      "metadata": {
        "colab": {
          "base_uri": "https://localhost:8080/"
        },
        "id": "yvsRIaNQectL",
        "outputId": "ce72783d-3702-44c3-c5a0-0cf3652cb5b8"
      },
      "execution_count": 20,
      "outputs": [
        {
          "output_type": "stream",
          "name": "stdout",
          "text": [
            "\u001b[1m7/7\u001b[0m \u001b[32m━━━━━━━━━━━━━━━━━━━━\u001b[0m\u001b[37m\u001b[0m \u001b[1m0s\u001b[0m 4ms/step \n",
            "R^2 is 0.42539042234420776 \n",
            " RMSE is 6499.826459221816 \n",
            " MAPE is 0.05376782640814781\n"
          ]
        }
      ]
    },
    {
      "cell_type": "code",
      "source": [
        "#Creating a new dataframe to compare the methods in the end.\n",
        "result_data = {\"Method\":[\"LSTM - Simple\"],\n",
        "               \"R^2\":[r2_lstm_simple],\n",
        "               \"RMSE\":[rmse_lstm_simple],\n",
        "               \"MAPE\":[mape_lstm_simple]}\n",
        "results_df = pd.DataFrame(data=result_data)\n",
        "results_df"
      ],
      "metadata": {
        "colab": {
          "base_uri": "https://localhost:8080/",
          "height": 138
        },
        "id": "Dx9TN_nZfwwz",
        "outputId": "44c0fafc-0df5-4981-aad6-b7bd895c3ef5"
      },
      "execution_count": 21,
      "outputs": [
        {
          "output_type": "stream",
          "name": "stderr",
          "text": [
            "UserWarning: The size of /dev/shm is too small (6101663744 bytes). The required size at least half of RAM (6804715520 bytes). Please, delete files in /dev/shm or increase size of /dev/shm with --shm-size in Docker. Also, you can can override the memory size for each Ray worker (in bytes) to the MODIN_MEMORY environment variable.\n",
            "2025-03-21 12:36:08,490\tINFO worker.py:1852 -- Started a local Ray instance.\n"
          ]
        },
        {
          "output_type": "execute_result",
          "data": {
            "text/plain": [
              "          Method      R^2         RMSE      MAPE\n",
              "0  LSTM - Simple  0.42539  6499.826459  0.053768"
            ],
            "text/html": [
              "<div>\n",
              "<style scoped>\n",
              "    .dataframe tbody tr th:only-of-type {\n",
              "        vertical-align: middle;\n",
              "    }\n",
              "\n",
              "    .dataframe tbody tr th {\n",
              "        vertical-align: top;\n",
              "    }\n",
              "\n",
              "    .dataframe thead th {\n",
              "        text-align: right;\n",
              "    }\n",
              "</style>\n",
              "<table border=\"1\" class=\"dataframe\">\n",
              "  <thead>\n",
              "    <tr style=\"text-align: right;\">\n",
              "      <th></th>\n",
              "      <th>Method</th>\n",
              "      <th>R^2</th>\n",
              "      <th>RMSE</th>\n",
              "      <th>MAPE</th>\n",
              "    </tr>\n",
              "  </thead>\n",
              "  <tbody>\n",
              "    <tr>\n",
              "      <th>0</th>\n",
              "      <td>LSTM - Simple</td>\n",
              "      <td>0.42539</td>\n",
              "      <td>6499.826459</td>\n",
              "      <td>0.053768</td>\n",
              "    </tr>\n",
              "  </tbody>\n",
              "</table>\n",
              "</div>"
            ]
          },
          "metadata": {},
          "execution_count": 21
        }
      ]
    },
    {
      "cell_type": "code",
      "source": [
        "from tensorflow.keras.regularizers import l2\n",
        "model_LSTM_normal = Sequential([\n",
        "    LSTM(64,input_shape=(X_train_scaled.shape[1],1),kernel_regularizer=l2(0.001),return_sequences=False),\n",
        "    Dropout(0.2),\n",
        "    Dense(32,activation=\"relu\",kernel_regularizer=l2(0.001)),\n",
        "    Dropout(0.2),\n",
        "    Dense(1)\n",
        "])\n",
        "\n",
        "model_LSTM_normal.compile(optimizer=\"adam\",loss=\"mae\")\n",
        "\n",
        "history_simple = model_LSTM_normal.fit(\n",
        "    X_train_scaled, y_train_scaled,\n",
        "    validation_data=(X_val_scaled, y_val_scaled),\n",
        "    epochs=100,\n",
        "    batch_size=32,\n",
        "    callbacks=[early_stop],\n",
        "    verbose=0\n",
        ")"
      ],
      "metadata": {
        "id": "kXwYgOqevpAh",
        "colab": {
          "base_uri": "https://localhost:8080/"
        },
        "outputId": "bb21705e-67a1-4bbd-8924-54c5b51fb645"
      },
      "execution_count": 22,
      "outputs": [
        {
          "output_type": "stream",
          "name": "stderr",
          "text": [
            "UserWarning: Do not pass an `input_shape`/`input_dim` argument to a layer. When using Sequential models, prefer using an `Input(shape)` object as the first layer in the model instead.\n"
          ]
        }
      ]
    },
    {
      "cell_type": "code",
      "source": [
        "import matplotlib.pyplot as plt\n",
        "\n",
        "plt.figure(figsize=(12,6))\n",
        "plt.plot(history_simple.history['val_loss'], label='Normal Model')\n",
        "plt.legend()\n",
        "plt.title('Validation Loss Comparison of LSTM_Simple')\n",
        "plt.show()"
      ],
      "metadata": {
        "colab": {
          "base_uri": "https://localhost:8080/",
          "height": 545
        },
        "id": "PzX35z3xxSy4",
        "outputId": "6f427190-e488-4e8e-c2ff-397a1f484d14"
      },
      "execution_count": 23,
      "outputs": [
        {
          "output_type": "display_data",
          "data": {
            "text/plain": [
              "<Figure size 1200x600 with 1 Axes>"
            ],
            "image/png": "[encoded data removed]"
          },
          "metadata": {}
        }
      ]
    },
    {
      "cell_type": "code",
      "source": [
        "y_pred_scaled = model_LSTM_normal.predict(X_test_scaled)\n",
        "y_pred_scaled = scaler_y.inverse_transform(y_pred_scaled)\n",
        "y_test = y_test.reshape(-1,1)\n",
        "rmse_lstm_normal = np.sqrt(mean_squared_error(y_test, y_pred_scaled))\n",
        "mape_lstm_normal = mean_absolute_percentage_error(y_test, y_pred_scaled)\n",
        "r2_lstm_normal = r2_score(y_test, y_pred_scaled)\n",
        "print(f\"R^2 is {r2_lstm_normal} \\n RMSE is {rmse_lstm_normal} \\n MAPE is {mape_lstm_normal}\")"
      ],
      "metadata": {
        "colab": {
          "base_uri": "https://localhost:8080/"
        },
        "id": "xn5LTFYZxYp4",
        "outputId": "861fe8d0-7ddc-49a0-e130-dbe00c00c11e"
      },
      "execution_count": 28,
      "outputs": [
        {
          "output_type": "stream",
          "name": "stdout",
          "text": [
            "\u001b[1m7/7\u001b[0m \u001b[32m━━━━━━━━━━━━━━━━━━━━\u001b[0m\u001b[37m\u001b[0m \u001b[1m0s\u001b[0m 6ms/step  \n",
            "R^2 is 0.5529996156692505 \n",
            " RMSE is 5732.832982042997 \n",
            " MAPE is 0.0458378829061985\n"
          ]
        }
      ]
    },
    {
      "cell_type": "code",
      "source": [
        "result_data = {\"Method\":[\"LSTM - Normal\"],\n",
        "               \"R^2\":[r2_lstm_normal],\n",
        "               \"RMSE\":[rmse_lstm_normal],\n",
        "               \"MAPE\":[mape_lstm_normal]}\n",
        "results_df = pd.concat([results_df,pd.DataFrame(result_data)],ignore_index=True)\n",
        "results_df"
      ],
      "metadata": {
        "colab": {
          "base_uri": "https://localhost:8080/",
          "height": 112
        },
        "id": "Hyagw3Mms7eh",
        "outputId": "96fea76a-3b73-49c3-fb14-bb9494b0958b"
      },
      "execution_count": 31,
      "outputs": [
        {
          "output_type": "execute_result",
          "data": {
            "text/plain": [
              "          Method      R^2         RMSE      MAPE\n",
              "0  LSTM - Simple  0.42539  6499.826459  0.053768\n",
              "1  LSTM - Normal  0.55300  5732.832982  0.045838"
            ],
            "text/html": [
              "<div>\n",
              "<style scoped>\n",
              "    .dataframe tbody tr th:only-of-type {\n",
              "        vertical-align: middle;\n",
              "    }\n",
              "\n",
              "    .dataframe tbody tr th {\n",
              "        vertical-align: top;\n",
              "    }\n",
              "\n",
              "    .dataframe thead th {\n",
              "        text-align: right;\n",
              "    }\n",
              "</style>\n",
              "<table border=\"1\" class=\"dataframe\">\n",
              "  <thead>\n",
              "    <tr style=\"text-align: right;\">\n",
              "      <th></th>\n",
              "      <th>Method</th>\n",
              "      <th>R^2</th>\n",
              "      <th>RMSE</th>\n",
              "      <th>MAPE</th>\n",
              "    </tr>\n",
              "  </thead>\n",
              "  <tbody>\n",
              "    <tr>\n",
              "      <th>0</th>\n",
              "      <td>LSTM - Simple</td>\n",
              "      <td>0.42539</td>\n",
              "      <td>6499.826459</td>\n",
              "      <td>0.053768</td>\n",
              "    </tr>\n",
              "    <tr>\n",
              "      <th>1</th>\n",
              "      <td>LSTM - Normal</td>\n",
              "      <td>0.55300</td>\n",
              "      <td>5732.832982</td>\n",
              "      <td>0.045838</td>\n",
              "    </tr>\n",
              "  </tbody>\n",
              "</table>\n",
              "</div>"
            ]
          },
          "metadata": {},
          "execution_count": 31
        }
      ]
    },
    {
      "cell_type": "code",
      "source": [
        "results_df.drop(index=1,inplace=True)"
      ],
      "metadata": {
        "id": "vPGw1vI5tRUG"
      },
      "execution_count": 30,
      "outputs": []
    },
    {
      "cell_type": "code",
      "source": [
        "from tensorflow.keras.layers import LSTM, Dense, Dropout, BatchNormalization, Bidirectional"
      ],
      "metadata": {
        "id": "xl2l3GEYwt0k"
      },
      "execution_count": 32,
      "outputs": []
    },
    {
      "cell_type": "code",
      "source": [
        "model_LSTM_advanced = Sequential([\n",
        "    Bidirectional(LSTM(128, return_sequences=True,\n",
        "                       kernel_regularizer=l2(0.001),\n",
        "                       recurrent_dropout=0.2),\n",
        "                  input_shape=(X_train_scaled.shape[1],1)),\n",
        "    BatchNormalization(),\n",
        "    Dropout(0.3),\n",
        "\n",
        "    Bidirectional(LSTM(64, return_sequences=False,\n",
        "                       kernel_regularizer=l2(0.001),\n",
        "                       recurrent_dropout=0.2)),\n",
        "    BatchNormalization(),\n",
        "    Dropout(0.3),\n",
        "\n",
        "    Dense(64, activation='relu', kernel_regularizer=l2(0.001)),\n",
        "    Dropout(0.3),\n",
        "\n",
        "    Dense(1)\n",
        "])"
      ],
      "metadata": {
        "colab": {
          "base_uri": "https://localhost:8080/"
        },
        "id": "NNGOAqa1uRpm",
        "outputId": "60ab2a09-b02b-45a8-a89e-f785f6b7c57e"
      },
      "execution_count": 33,
      "outputs": [
        {
          "output_type": "stream",
          "name": "stderr",
          "text": [
            "UserWarning: Do not pass an `input_shape`/`input_dim` argument to a layer. When using Sequential models, prefer using an `Input(shape)` object as the first layer in the model instead.\n"
          ]
        }
      ]
    },
    {
      "cell_type": "code",
      "source": [
        "model_LSTM_advanced.compile(optimizer=\"adam\",loss=\"mae\")\n",
        "\n",
        "history_simple = model_LSTM_advanced.fit(\n",
        "    X_train_scaled, y_train_scaled,\n",
        "    validation_data=(X_val_scaled, y_val_scaled),\n",
        "    epochs=100,\n",
        "    batch_size=32,\n",
        "    callbacks=[early_stop],\n",
        "    verbose=1\n",
        ")"
      ],
      "metadata": {
        "colab": {
          "base_uri": "https://localhost:8080/"
        },
        "id": "Zo-uuEp7xfZU",
        "outputId": "05ecc085-3265-4ea9-fde2-13a140d067f7"
      },
      "execution_count": 35,
      "outputs": [
        {
          "output_type": "stream",
          "name": "stdout",
          "text": [
            "Epoch 1/100\n",
            "\u001b[1m35/35\u001b[0m \u001b[32m━━━━━━━━━━━━━━━━━━━━\u001b[0m\u001b[37m\u001b[0m \u001b[1m23s\u001b[0m 251ms/step - loss: 0.5682 - val_loss: 0.6032\n",
            "Epoch 2/100\n",
            "\u001b[1m35/35\u001b[0m \u001b[32m━━━━━━━━━━━━━━━━━━━━\u001b[0m\u001b[37m\u001b[0m \u001b[1m8s\u001b[0m 200ms/step - loss: 0.5436 - val_loss: 0.5963\n",
            "Epoch 3/100\n",
            "\u001b[1m35/35\u001b[0m \u001b[32m━━━━━━━━━━━━━━━━━━━━\u001b[0m\u001b[37m\u001b[0m \u001b[1m11s\u001b[0m 228ms/step - loss: 0.5166 - val_loss: 0.5715\n",
            "Epoch 4/100\n",
            "\u001b[1m35/35\u001b[0m \u001b[32m━━━━━━━━━━━━━━━━━━━━\u001b[0m\u001b[37m\u001b[0m \u001b[1m9s\u001b[0m 246ms/step - loss: 0.5174 - val_loss: 0.5275\n",
            "Epoch 5/100\n",
            "\u001b[1m35/35\u001b[0m \u001b[32m━━━━━━━━━━━━━━━━━━━━\u001b[0m\u001b[37m\u001b[0m \u001b[1m9s\u001b[0m 198ms/step - loss: 0.5226 - val_loss: 0.5569\n",
            "Epoch 6/100\n",
            "\u001b[1m35/35\u001b[0m \u001b[32m━━━━━━━━━━━━━━━━━━━━\u001b[0m\u001b[37m\u001b[0m \u001b[1m9s\u001b[0m 242ms/step - loss: 0.4901 - val_loss: 0.5113\n",
            "Epoch 7/100\n",
            "\u001b[1m35/35\u001b[0m \u001b[32m━━━━━━━━━━━━━━━━━━━━\u001b[0m\u001b[37m\u001b[0m \u001b[1m8s\u001b[0m 244ms/step - loss: 0.4858 - val_loss: 0.5118\n",
            "Epoch 8/100\n",
            "\u001b[1m35/35\u001b[0m \u001b[32m━━━━━━━━━━━━━━━━━━━━\u001b[0m\u001b[37m\u001b[0m \u001b[1m9s\u001b[0m 199ms/step - loss: 0.5050 - val_loss: 0.5389\n",
            "Epoch 9/100\n",
            "\u001b[1m35/35\u001b[0m \u001b[32m━━━━━━━━━━━━━━━━━━━━\u001b[0m\u001b[37m\u001b[0m \u001b[1m10s\u001b[0m 200ms/step - loss: 0.4584 - val_loss: 0.5182\n",
            "Epoch 10/100\n",
            "\u001b[1m35/35\u001b[0m \u001b[32m━━━━━━━━━━━━━━━━━━━━\u001b[0m\u001b[37m\u001b[0m \u001b[1m11s\u001b[0m 216ms/step - loss: 0.4723 - val_loss: 0.5028\n",
            "Epoch 11/100\n",
            "\u001b[1m35/35\u001b[0m \u001b[32m━━━━━━━━━━━━━━━━━━━━\u001b[0m\u001b[37m\u001b[0m \u001b[1m11s\u001b[0m 244ms/step - loss: 0.4523 - val_loss: 0.5152\n",
            "Epoch 12/100\n",
            "\u001b[1m35/35\u001b[0m \u001b[32m━━━━━━━━━━━━━━━━━━━━\u001b[0m\u001b[37m\u001b[0m \u001b[1m8s\u001b[0m 228ms/step - loss: 0.4963 - val_loss: 0.5338\n",
            "Epoch 13/100\n",
            "\u001b[1m35/35\u001b[0m \u001b[32m━━━━━━━━━━━━━━━━━━━━\u001b[0m\u001b[37m\u001b[0m \u001b[1m8s\u001b[0m 209ms/step - loss: 0.4472 - val_loss: 0.5016\n",
            "Epoch 14/100\n",
            "\u001b[1m35/35\u001b[0m \u001b[32m━━━━━━━━━━━━━━━━━━━━\u001b[0m\u001b[37m\u001b[0m \u001b[1m8s\u001b[0m 242ms/step - loss: 0.4430 - val_loss: 0.4919\n",
            "Epoch 15/100\n",
            "\u001b[1m35/35\u001b[0m \u001b[32m━━━━━━━━━━━━━━━━━━━━\u001b[0m\u001b[37m\u001b[0m \u001b[1m7s\u001b[0m 201ms/step - loss: 0.4438 - val_loss: 0.4887\n",
            "Epoch 16/100\n",
            "\u001b[1m35/35\u001b[0m \u001b[32m━━━━━━━━━━━━━━━━━━━━\u001b[0m\u001b[37m\u001b[0m \u001b[1m10s\u001b[0m 203ms/step - loss: 0.4418 - val_loss: 0.4998\n",
            "Epoch 17/100\n",
            "\u001b[1m35/35\u001b[0m \u001b[32m━━━━━━━━━━━━━━━━━━━━\u001b[0m\u001b[37m\u001b[0m \u001b[1m11s\u001b[0m 226ms/step - loss: 0.4500 - val_loss: 0.4717\n",
            "Epoch 18/100\n",
            "\u001b[1m35/35\u001b[0m \u001b[32m━━━━━━━━━━━━━━━━━━━━\u001b[0m\u001b[37m\u001b[0m \u001b[1m10s\u001b[0m 238ms/step - loss: 0.4269 - val_loss: 0.4901\n",
            "Epoch 19/100\n",
            "\u001b[1m35/35\u001b[0m \u001b[32m━━━━━━━━━━━━━━━━━━━━\u001b[0m\u001b[37m\u001b[0m \u001b[1m7s\u001b[0m 198ms/step - loss: 0.4186 - val_loss: 0.5110\n",
            "Epoch 20/100\n",
            "\u001b[1m35/35\u001b[0m \u001b[32m━━━━━━━━━━━━━━━━━━━━\u001b[0m\u001b[37m\u001b[0m \u001b[1m10s\u001b[0m 199ms/step - loss: 0.4081 - val_loss: 0.4887\n",
            "Epoch 21/100\n",
            "\u001b[1m35/35\u001b[0m \u001b[32m━━━━━━━━━━━━━━━━━━━━\u001b[0m\u001b[37m\u001b[0m \u001b[1m8s\u001b[0m 242ms/step - loss: 0.4019 - val_loss: 0.4750\n",
            "Epoch 22/100\n",
            "\u001b[1m35/35\u001b[0m \u001b[32m━━━━━━━━━━━━━━━━━━━━\u001b[0m\u001b[37m\u001b[0m \u001b[1m10s\u001b[0m 239ms/step - loss: 0.3909 - val_loss: 0.4792\n",
            "Epoch 23/100\n",
            "\u001b[1m35/35\u001b[0m \u001b[32m━━━━━━━━━━━━━━━━━━━━\u001b[0m\u001b[37m\u001b[0m \u001b[1m7s\u001b[0m 204ms/step - loss: 0.3938 - val_loss: 0.4601\n",
            "Epoch 24/100\n",
            "\u001b[1m35/35\u001b[0m \u001b[32m━━━━━━━━━━━━━━━━━━━━\u001b[0m\u001b[37m\u001b[0m \u001b[1m11s\u001b[0m 219ms/step - loss: 0.4148 - val_loss: 0.4627\n",
            "Epoch 25/100\n",
            "\u001b[1m35/35\u001b[0m \u001b[32m━━━━━━━━━━━━━━━━━━━━\u001b[0m\u001b[37m\u001b[0m \u001b[1m11s\u001b[0m 240ms/step - loss: 0.3879 - val_loss: 0.4528\n",
            "Epoch 26/100\n",
            "\u001b[1m35/35\u001b[0m \u001b[32m━━━━━━━━━━━━━━━━━━━━\u001b[0m\u001b[37m\u001b[0m \u001b[1m10s\u001b[0m 239ms/step - loss: 0.4117 - val_loss: 0.4661\n",
            "Epoch 27/100\n",
            "\u001b[1m35/35\u001b[0m \u001b[32m━━━━━━━━━━━━━━━━━━━━\u001b[0m\u001b[37m\u001b[0m \u001b[1m9s\u001b[0m 198ms/step - loss: 0.3942 - val_loss: 0.4919\n",
            "Epoch 28/100\n",
            "\u001b[1m35/35\u001b[0m \u001b[32m━━━━━━━━━━━━━━━━━━━━\u001b[0m\u001b[37m\u001b[0m \u001b[1m10s\u001b[0m 198ms/step - loss: 0.3963 - val_loss: 0.4575\n",
            "Epoch 29/100\n",
            "\u001b[1m35/35\u001b[0m \u001b[32m━━━━━━━━━━━━━━━━━━━━\u001b[0m\u001b[37m\u001b[0m \u001b[1m11s\u001b[0m 216ms/step - loss: 0.3794 - val_loss: 0.4699\n",
            "Epoch 30/100\n",
            "\u001b[1m35/35\u001b[0m \u001b[32m━━━━━━━━━━━━━━━━━━━━\u001b[0m\u001b[37m\u001b[0m \u001b[1m9s\u001b[0m 245ms/step - loss: 0.4147 - val_loss: 0.4474\n",
            "Epoch 31/100\n",
            "\u001b[1m35/35\u001b[0m \u001b[32m━━━━━━━━━━━━━━━━━━━━\u001b[0m\u001b[37m\u001b[0m \u001b[1m9s\u001b[0m 219ms/step - loss: 0.3917 - val_loss: 0.4742\n",
            "Epoch 32/100\n",
            "\u001b[1m35/35\u001b[0m \u001b[32m━━━━━━━━━━━━━━━━━━━━\u001b[0m\u001b[37m\u001b[0m \u001b[1m10s\u001b[0m 206ms/step - loss: 0.3954 - val_loss: 0.4658\n",
            "Epoch 33/100\n",
            "\u001b[1m35/35\u001b[0m \u001b[32m━━━━━━━━━━━━━━━━━━━━\u001b[0m\u001b[37m\u001b[0m \u001b[1m10s\u001b[0m 204ms/step - loss: 0.3706 - val_loss: 0.4450\n",
            "Epoch 34/100\n",
            "\u001b[1m35/35\u001b[0m \u001b[32m━━━━━━━━━━━━━━━━━━━━\u001b[0m\u001b[37m\u001b[0m \u001b[1m11s\u001b[0m 244ms/step - loss: 0.3986 - val_loss: 0.4524\n",
            "Epoch 35/100\n",
            "\u001b[1m35/35\u001b[0m \u001b[32m━━━━━━━━━━━━━━━━━━━━\u001b[0m\u001b[37m\u001b[0m \u001b[1m9s\u001b[0m 248ms/step - loss: 0.3972 - val_loss: 0.4578\n",
            "Epoch 36/100\n",
            "\u001b[1m35/35\u001b[0m \u001b[32m━━━━━━━━━━━━━━━━━━━━\u001b[0m\u001b[37m\u001b[0m \u001b[1m7s\u001b[0m 201ms/step - loss: 0.3619 - val_loss: 0.4446\n",
            "Epoch 37/100\n",
            "\u001b[1m35/35\u001b[0m \u001b[32m━━━━━━━━━━━━━━━━━━━━\u001b[0m\u001b[37m\u001b[0m \u001b[1m11s\u001b[0m 211ms/step - loss: 0.3583 - val_loss: 0.4279\n",
            "Epoch 38/100\n",
            "\u001b[1m35/35\u001b[0m \u001b[32m━━━━━━━━━━━━━━━━━━━━\u001b[0m\u001b[37m\u001b[0m \u001b[1m8s\u001b[0m 243ms/step - loss: 0.3791 - val_loss: 0.4464\n",
            "Epoch 39/100\n",
            "\u001b[1m35/35\u001b[0m \u001b[32m━━━━━━━━━━━━━━━━━━━━\u001b[0m\u001b[37m\u001b[0m \u001b[1m9s\u001b[0m 204ms/step - loss: 0.3868 - val_loss: 0.4346\n",
            "Epoch 40/100\n",
            "\u001b[1m35/35\u001b[0m \u001b[32m━━━━━━━━━━━━━━━━━━━━\u001b[0m\u001b[37m\u001b[0m \u001b[1m10s\u001b[0m 202ms/step - loss: 0.3463 - val_loss: 0.4350\n",
            "Epoch 41/100\n",
            "\u001b[1m35/35\u001b[0m \u001b[32m━━━━━━━━━━━━━━━━━━━━\u001b[0m\u001b[37m\u001b[0m \u001b[1m10s\u001b[0m 202ms/step - loss: 0.3705 - val_loss: 0.4595\n",
            "Epoch 42/100\n",
            "\u001b[1m35/35\u001b[0m \u001b[32m━━━━━━━━━━━━━━━━━━━━\u001b[0m\u001b[37m\u001b[0m \u001b[1m11s\u001b[0m 239ms/step - loss: 0.3864 - val_loss: 0.4563\n",
            "Epoch 43/100\n",
            "\u001b[1m35/35\u001b[0m \u001b[32m━━━━━━━━━━━━━━━━━━━━\u001b[0m\u001b[37m\u001b[0m \u001b[1m8s\u001b[0m 243ms/step - loss: 0.3502 - val_loss: 0.4306\n",
            "Epoch 44/100\n",
            "\u001b[1m35/35\u001b[0m \u001b[32m━━━━━━━━━━━━━━━━━━━━\u001b[0m\u001b[37m\u001b[0m \u001b[1m9s\u001b[0m 201ms/step - loss: 0.3568 - val_loss: 0.4471\n",
            "Epoch 45/100\n",
            "\u001b[1m35/35\u001b[0m \u001b[32m━━━━━━━━━━━━━━━━━━━━\u001b[0m\u001b[37m\u001b[0m \u001b[1m10s\u001b[0m 198ms/step - loss: 0.3702 - val_loss: 0.4374\n",
            "Epoch 46/100\n",
            "\u001b[1m35/35\u001b[0m \u001b[32m━━━━━━━━━━━━━━━━━━━━\u001b[0m\u001b[37m\u001b[0m \u001b[1m11s\u001b[0m 218ms/step - loss: 0.3774 - val_loss: 0.4328\n",
            "Epoch 47/100\n",
            "\u001b[1m35/35\u001b[0m \u001b[32m━━━━━━━━━━━━━━━━━━━━\u001b[0m\u001b[37m\u001b[0m \u001b[1m8s\u001b[0m 242ms/step - loss: 0.3634 - val_loss: 0.4521\n"
          ]
        }
      ]
    },
    {
      "cell_type": "code",
      "source": [
        "import matplotlib.pyplot as plt\n",
        "\n",
        "plt.figure(figsize=(12,6))\n",
        "plt.plot(history_simple.history['val_loss'], label='Normal Model')\n",
        "plt.legend()\n",
        "plt.title('Validation Loss Comparison of LSTM_Advanced')\n",
        "plt.show()"
      ],
      "metadata": {
        "colab": {
          "base_uri": "https://localhost:8080/",
          "height": 545
        },
        "id": "avGbVsNax5MD",
        "outputId": "b88dd2f6-e949-49e6-b496-7448995e629c"
      },
      "execution_count": 40,
      "outputs": [
        {
          "output_type": "display_data",
          "data": {
            "text/plain": [
              "<Figure size 1200x600 with 1 Axes>"
            ],
            "image/png": "[encoded data removed]"
          },
          "metadata": {}
        }
      ]
    },
    {
      "cell_type": "code",
      "source": [
        "y_pred_scaled = model_LSTM_advanced.predict(X_test_scaled)\n",
        "y_pred_scaled = scaler_y.inverse_transform(y_pred_scaled)\n",
        "y_test = y_test.reshape(-1,1)\n",
        "rmse_lstm_advanced = np.sqrt(mean_squared_error(y_test, y_pred_scaled))\n",
        "mape_lstm_advanced = mean_absolute_percentage_error(y_test, y_pred_scaled)\n",
        "r2_lstm_advanced = r2_score(y_test, y_pred_scaled)\n",
        "print(f\"R^2 is {r2_lstm_advanced} \\n RMSE is {rmse_lstm_advanced} \\n MAPE is {mape_lstm_advanced}\")"
      ],
      "metadata": {
        "colab": {
          "base_uri": "https://localhost:8080/"
        },
        "id": "VrPJlNmq2uOQ",
        "outputId": "ab0a31d2-3f42-49e2-ba6b-d3abc83d7e66"
      },
      "execution_count": 41,
      "outputs": [
        {
          "output_type": "stream",
          "name": "stdout",
          "text": [
            "\u001b[1m7/7\u001b[0m \u001b[32m━━━━━━━━━━━━━━━━━━━━\u001b[0m\u001b[37m\u001b[0m \u001b[1m1s\u001b[0m 43ms/step\n",
            "R^2 is 0.5770177841186523 \n",
            " RMSE is 5576.688264552718 \n",
            " MAPE is 0.0419011190533638\n"
          ]
        }
      ]
    },
    {
      "cell_type": "code",
      "source": [
        "result_data = {\"Method\":[\"LSTM - Advance\"],\n",
        "               \"R^2\":[r2_lstm_advanced],\n",
        "               \"RMSE\":[rmse_lstm_advanced],\n",
        "               \"MAPE\":[mape_lstm_advanced]}\n",
        "results_df = pd.concat([results_df,pd.DataFrame(result_data)],ignore_index=True)\n",
        "results_df"
      ],
      "metadata": {
        "colab": {
          "base_uri": "https://localhost:8080/",
          "height": 143
        },
        "id": "4jXPczaMMPhR",
        "outputId": "4a57e7ad-394b-4747-d52d-213bccb62652"
      },
      "execution_count": 42,
      "outputs": [
        {
          "output_type": "execute_result",
          "data": {
            "text/plain": [
              "           Method       R^2         RMSE      MAPE\n",
              "0   LSTM - Simple  0.425390  6499.826459  0.053768\n",
              "1   LSTM - Normal  0.553000  5732.832982  0.045838\n",
              "2  LSTM - Advance  0.577018  5576.688265  0.041901"
            ],
            "text/html": [
              "<div>\n",
              "<style scoped>\n",
              "    .dataframe tbody tr th:only-of-type {\n",
              "        vertical-align: middle;\n",
              "    }\n",
              "\n",
              "    .dataframe tbody tr th {\n",
              "        vertical-align: top;\n",
              "    }\n",
              "\n",
              "    .dataframe thead th {\n",
              "        text-align: right;\n",
              "    }\n",
              "</style>\n",
              "<table border=\"1\" class=\"dataframe\">\n",
              "  <thead>\n",
              "    <tr style=\"text-align: right;\">\n",
              "      <th></th>\n",
              "      <th>Method</th>\n",
              "      <th>R^2</th>\n",
              "      <th>RMSE</th>\n",
              "      <th>MAPE</th>\n",
              "    </tr>\n",
              "  </thead>\n",
              "  <tbody>\n",
              "    <tr>\n",
              "      <th>0</th>\n",
              "      <td>LSTM - Simple</td>\n",
              "      <td>0.425390</td>\n",
              "      <td>6499.826459</td>\n",
              "      <td>0.053768</td>\n",
              "    </tr>\n",
              "    <tr>\n",
              "      <th>1</th>\n",
              "      <td>LSTM - Normal</td>\n",
              "      <td>0.553000</td>\n",
              "      <td>5732.832982</td>\n",
              "      <td>0.045838</td>\n",
              "    </tr>\n",
              "    <tr>\n",
              "      <th>2</th>\n",
              "      <td>LSTM - Advance</td>\n",
              "      <td>0.577018</td>\n",
              "      <td>5576.688265</td>\n",
              "      <td>0.041901</td>\n",
              "    </tr>\n",
              "  </tbody>\n",
              "</table>\n",
              "</div>"
            ]
          },
          "metadata": {},
          "execution_count": 42
        }
      ]
    },
    {
      "cell_type": "markdown",
      "source": [
        "# RNN"
      ],
      "metadata": {
        "id": "CEAQT9lEMa34"
      }
    },
    {
      "cell_type": "code",
      "source": [
        "from tensorflow.keras.layers import SimpleRNN"
      ],
      "metadata": {
        "id": "2zCFwaKbMy-o"
      },
      "execution_count": 43,
      "outputs": []
    },
    {
      "cell_type": "code",
      "source": [
        "model_RNN_simple = Sequential([\n",
        "    SimpleRNN(32, input_shape=(X_train_scaled.shape[1], 1), kernel_regularizer=l2(0.001)),\n",
        "    Dropout(0.2),\n",
        "    Dense(1)\n",
        "])\n",
        "model_RNN_simple.compile(optimizer=Adam(0.001), loss='mse', metrics=['mae'])\n",
        "history_rnn = model_RNN_simple.fit(\n",
        "    X_train_scaled, y_train_scaled,\n",
        "    validation_data=(X_val_scaled, y_val_scaled),\n",
        "    epochs=100,\n",
        "    batch_size=32,\n",
        "    callbacks=[early_stop],\n",
        "    verbose=1\n",
        ")"
      ],
      "metadata": {
        "colab": {
          "base_uri": "https://localhost:8080/"
        },
        "id": "CGis3y-gM0rQ",
        "outputId": "491a6b2c-122f-4c0c-9869-f374a58640c4"
      },
      "execution_count": 45,
      "outputs": [
        {
          "output_type": "stream",
          "name": "stdout",
          "text": [
            "Epoch 1/100\n",
            "\u001b[1m35/35\u001b[0m \u001b[32m━━━━━━━━━━━━━━━━━━━━\u001b[0m\u001b[37m\u001b[0m \u001b[1m5s\u001b[0m 58ms/step - loss: 1.0354 - mae: 0.7071 - val_loss: 0.4678 - val_mae: 0.5391\n",
            "Epoch 2/100\n",
            "\u001b[1m35/35\u001b[0m \u001b[32m━━━━━━━━━━━━━━━━━━━━\u001b[0m\u001b[37m\u001b[0m \u001b[1m2s\u001b[0m 7ms/step - loss: 0.4917 - mae: 0.4447 - val_loss: 0.4096 - val_mae: 0.5120\n",
            "Epoch 3/100\n",
            "\u001b[1m35/35\u001b[0m \u001b[32m━━━━━━━━━━━━━━━━━━━━\u001b[0m\u001b[37m\u001b[0m \u001b[1m0s\u001b[0m 7ms/step - loss: 0.5906 - mae: 0.4427 - val_loss: 0.3515 - val_mae: 0.4629\n",
            "Epoch 4/100\n",
            "\u001b[1m35/35\u001b[0m \u001b[32m━━━━━━━━━━━━━━━━━━━━\u001b[0m\u001b[37m\u001b[0m \u001b[1m0s\u001b[0m 6ms/step - loss: 0.4645 - mae: 0.3916 - val_loss: 0.3367 - val_mae: 0.4536\n",
            "Epoch 5/100\n",
            "\u001b[1m35/35\u001b[0m \u001b[32m━━━━━━━━━━━━━━━━━━━━\u001b[0m\u001b[37m\u001b[0m \u001b[1m0s\u001b[0m 7ms/step - loss: 0.5817 - mae: 0.3915 - val_loss: 0.3125 - val_mae: 0.4324\n",
            "Epoch 6/100\n",
            "\u001b[1m35/35\u001b[0m \u001b[32m━━━━━━━━━━━━━━━━━━━━\u001b[0m\u001b[37m\u001b[0m \u001b[1m0s\u001b[0m 7ms/step - loss: 0.6161 - mae: 0.3941 - val_loss: 0.3391 - val_mae: 0.4548\n",
            "Epoch 7/100\n",
            "\u001b[1m35/35\u001b[0m \u001b[32m━━━━━━━━━━━━━━━━━━━━\u001b[0m\u001b[37m\u001b[0m \u001b[1m0s\u001b[0m 7ms/step - loss: 0.5312 - mae: 0.3921 - val_loss: 0.2989 - val_mae: 0.4204\n",
            "Epoch 8/100\n",
            "\u001b[1m35/35\u001b[0m \u001b[32m━━━━━━━━━━━━━━━━━━━━\u001b[0m\u001b[37m\u001b[0m \u001b[1m0s\u001b[0m 7ms/step - loss: 0.6102 - mae: 0.3971 - val_loss: 0.3253 - val_mae: 0.4465\n",
            "Epoch 9/100\n",
            "\u001b[1m35/35\u001b[0m \u001b[32m━━━━━━━━━━━━━━━━━━━━\u001b[0m\u001b[37m\u001b[0m \u001b[1m0s\u001b[0m 7ms/step - loss: 0.5979 - mae: 0.3914 - val_loss: 0.3264 - val_mae: 0.4442\n",
            "Epoch 10/100\n",
            "\u001b[1m35/35\u001b[0m \u001b[32m━━━━━━━━━━━━━━━━━━━━\u001b[0m\u001b[37m\u001b[0m \u001b[1m0s\u001b[0m 6ms/step - loss: 0.5474 - mae: 0.3974 - val_loss: 0.2759 - val_mae: 0.3975\n",
            "Epoch 11/100\n",
            "\u001b[1m35/35\u001b[0m \u001b[32m━━━━━━━━━━━━━━━━━━━━\u001b[0m\u001b[37m\u001b[0m \u001b[1m0s\u001b[0m 6ms/step - loss: 0.3057 - mae: 0.3374 - val_loss: 0.3226 - val_mae: 0.4472\n",
            "Epoch 12/100\n",
            "\u001b[1m35/35\u001b[0m \u001b[32m━━━━━━━━━━━━━━━━━━━━\u001b[0m\u001b[37m\u001b[0m \u001b[1m0s\u001b[0m 6ms/step - loss: 0.3108 - mae: 0.3421 - val_loss: 0.3449 - val_mae: 0.4568\n",
            "Epoch 13/100\n",
            "\u001b[1m35/35\u001b[0m \u001b[32m━━━━━━━━━━━━━━━━━━━━\u001b[0m\u001b[37m\u001b[0m \u001b[1m0s\u001b[0m 6ms/step - loss: 0.3521 - mae: 0.3580 - val_loss: 0.2944 - val_mae: 0.4176\n",
            "Epoch 14/100\n",
            "\u001b[1m35/35\u001b[0m \u001b[32m━━━━━━━━━━━━━━━━━━━━\u001b[0m\u001b[37m\u001b[0m \u001b[1m0s\u001b[0m 6ms/step - loss: 0.4215 - mae: 0.3612 - val_loss: 0.2961 - val_mae: 0.4134\n",
            "Epoch 15/100\n",
            "\u001b[1m35/35\u001b[0m \u001b[32m━━━━━━━━━━━━━━━━━━━━\u001b[0m\u001b[37m\u001b[0m \u001b[1m0s\u001b[0m 7ms/step - loss: 0.3897 - mae: 0.3498 - val_loss: 0.2727 - val_mae: 0.4004\n",
            "Epoch 16/100\n",
            "\u001b[1m35/35\u001b[0m \u001b[32m━━━━━━━━━━━━━━━━━━━━\u001b[0m\u001b[37m\u001b[0m \u001b[1m0s\u001b[0m 6ms/step - loss: 0.4181 - mae: 0.3540 - val_loss: 0.2992 - val_mae: 0.4207\n",
            "Epoch 17/100\n",
            "\u001b[1m35/35\u001b[0m \u001b[32m━━━━━━━━━━━━━━━━━━━━\u001b[0m\u001b[37m\u001b[0m \u001b[1m0s\u001b[0m 7ms/step - loss: 0.4306 - mae: 0.3594 - val_loss: 0.2948 - val_mae: 0.4143\n",
            "Epoch 18/100\n",
            "\u001b[1m35/35\u001b[0m \u001b[32m━━━━━━━━━━━━━━━━━━━━\u001b[0m\u001b[37m\u001b[0m \u001b[1m0s\u001b[0m 6ms/step - loss: 0.2851 - mae: 0.3392 - val_loss: 0.2988 - val_mae: 0.4181\n",
            "Epoch 19/100\n",
            "\u001b[1m35/35\u001b[0m \u001b[32m━━━━━━━━━━━━━━━━━━━━\u001b[0m\u001b[37m\u001b[0m \u001b[1m0s\u001b[0m 7ms/step - loss: 0.3654 - mae: 0.3507 - val_loss: 0.2789 - val_mae: 0.4014\n",
            "Epoch 20/100\n",
            "\u001b[1m35/35\u001b[0m \u001b[32m━━━━━━━━━━━━━━━━━━━━\u001b[0m\u001b[37m\u001b[0m \u001b[1m0s\u001b[0m 7ms/step - loss: 0.3862 - mae: 0.3451 - val_loss: 0.2933 - val_mae: 0.4104\n",
            "Epoch 21/100\n",
            "\u001b[1m35/35\u001b[0m \u001b[32m━━━━━━━━━━━━━━━━━━━━\u001b[0m\u001b[37m\u001b[0m \u001b[1m0s\u001b[0m 7ms/step - loss: 0.3405 - mae: 0.3435 - val_loss: 0.2857 - val_mae: 0.4018\n",
            "Epoch 22/100\n",
            "\u001b[1m35/35\u001b[0m \u001b[32m━━━━━━━━━━━━━━━━━━━━\u001b[0m\u001b[37m\u001b[0m \u001b[1m0s\u001b[0m 7ms/step - loss: 0.3023 - mae: 0.3322 - val_loss: 0.2982 - val_mae: 0.4145\n",
            "Epoch 23/100\n",
            "\u001b[1m35/35\u001b[0m \u001b[32m━━━━━━━━━━━━━━━━━━━━\u001b[0m\u001b[37m\u001b[0m \u001b[1m0s\u001b[0m 8ms/step - loss: 0.4583 - mae: 0.3641 - val_loss: 0.2866 - val_mae: 0.4097\n",
            "Epoch 24/100\n",
            "\u001b[1m35/35\u001b[0m \u001b[32m━━━━━━━━━━━━━━━━━━━━\u001b[0m\u001b[37m\u001b[0m \u001b[1m0s\u001b[0m 9ms/step - loss: 0.3450 - mae: 0.3359 - val_loss: 0.3042 - val_mae: 0.4177\n",
            "Epoch 25/100\n",
            "\u001b[1m35/35\u001b[0m \u001b[32m━━━━━━━━━━━━━━━━━━━━\u001b[0m\u001b[37m\u001b[0m \u001b[1m0s\u001b[0m 9ms/step - loss: 0.3750 - mae: 0.3539 - val_loss: 0.3320 - val_mae: 0.4428\n"
          ]
        }
      ]
    },
    {
      "cell_type": "code",
      "source": [
        "import matplotlib.pyplot as plt\n",
        "\n",
        "plt.figure(figsize=(12,6))\n",
        "plt.plot(history_rnn.history['val_loss'], label='Simple Model')\n",
        "plt.legend()\n",
        "plt.title('Validation Loss Comparison of RNN Simple')\n",
        "plt.show()"
      ],
      "metadata": {
        "colab": {
          "base_uri": "https://localhost:8080/",
          "height": 545
        },
        "id": "gIpkafOuM-Dg",
        "outputId": "fb16504a-2f4b-49ac-aaf3-e01ac26c30e4"
      },
      "execution_count": 46,
      "outputs": [
        {
          "output_type": "display_data",
          "data": {
            "text/plain": [
              "<Figure size 1200x600 with 1 Axes>"
            ],
            "image/png": "[encoded data removed]"
          },
          "metadata": {}
        }
      ]
    },
    {
      "cell_type": "code",
      "source": [
        "y_pred_scaled = model_RNN_simple.predict(X_test_scaled)\n",
        "y_pred_scaled = scaler_y.inverse_transform(y_pred_scaled)\n",
        "y_test = y_test.reshape(-1,1)\n",
        "rmse_rnn_simple = np.sqrt(mean_squared_error(y_test, y_pred_scaled))\n",
        "mape_rnn_simple = mean_absolute_percentage_error(y_test, y_pred_scaled)\n",
        "r2_rnn_simple = r2_score(y_test, y_pred_scaled)\n",
        "print(f\"R^2 is {r2_rnn_simple} \\n RMSE is {rmse_rnn_simple} \\n MAPE is {mape_rnn_simple}\")"
      ],
      "metadata": {
        "colab": {
          "base_uri": "https://localhost:8080/"
        },
        "id": "2LvGC_ozNGBo",
        "outputId": "db0d5881-aff6-47ab-c688-a7a6252e30de"
      },
      "execution_count": 47,
      "outputs": [
        {
          "output_type": "stream",
          "name": "stdout",
          "text": [
            "\u001b[1m7/7\u001b[0m \u001b[32m━━━━━━━━━━━━━━━━━━━━\u001b[0m\u001b[37m\u001b[0m \u001b[1m0s\u001b[0m 4ms/step  \n",
            "R^2 is 0.5731147527694702 \n",
            " RMSE is 5602.358431946317 \n",
            " MAPE is 0.04508863016963005\n"
          ]
        }
      ]
    },
    {
      "cell_type": "code",
      "source": [
        "result_data = {\"Method\":[\"RNN - Simple\"],\n",
        "               \"R^2\":[r2_rnn_simple],\n",
        "               \"RMSE\":[rmse_rnn_simple],\n",
        "               \"MAPE\":[mape_rnn_simple]}\n",
        "results_df = pd.concat([results_df,pd.DataFrame(result_data)],ignore_index=True)\n",
        "results_df"
      ],
      "metadata": {
        "colab": {
          "base_uri": "https://localhost:8080/",
          "height": 175
        },
        "id": "ERKqVNR0NS_o",
        "outputId": "6cafe024-4da8-48da-9478-5ca23e74df7b"
      },
      "execution_count": 48,
      "outputs": [
        {
          "output_type": "execute_result",
          "data": {
            "text/plain": [
              "           Method       R^2         RMSE      MAPE\n",
              "0   LSTM - Simple  0.425390  6499.826459  0.053768\n",
              "1   LSTM - Normal  0.553000  5732.832982  0.045838\n",
              "2  LSTM - Advance  0.577018  5576.688265  0.041901\n",
              "3    RNN - Simple  0.573115  5602.358432  0.045089"
            ],
            "text/html": [
              "<div>\n",
              "<style scoped>\n",
              "    .dataframe tbody tr th:only-of-type {\n",
              "        vertical-align: middle;\n",
              "    }\n",
              "\n",
              "    .dataframe tbody tr th {\n",
              "        vertical-align: top;\n",
              "    }\n",
              "\n",
              "    .dataframe thead th {\n",
              "        text-align: right;\n",
              "    }\n",
              "</style>\n",
              "<table border=\"1\" class=\"dataframe\">\n",
              "  <thead>\n",
              "    <tr style=\"text-align: right;\">\n",
              "      <th></th>\n",
              "      <th>Method</th>\n",
              "      <th>R^2</th>\n",
              "      <th>RMSE</th>\n",
              "      <th>MAPE</th>\n",
              "    </tr>\n",
              "  </thead>\n",
              "  <tbody>\n",
              "    <tr>\n",
              "      <th>0</th>\n",
              "      <td>LSTM - Simple</td>\n",
              "      <td>0.425390</td>\n",
              "      <td>6499.826459</td>\n",
              "      <td>0.053768</td>\n",
              "    </tr>\n",
              "    <tr>\n",
              "      <th>1</th>\n",
              "      <td>LSTM - Normal</td>\n",
              "      <td>0.553000</td>\n",
              "      <td>5732.832982</td>\n",
              "      <td>0.045838</td>\n",
              "    </tr>\n",
              "    <tr>\n",
              "      <th>2</th>\n",
              "      <td>LSTM - Advance</td>\n",
              "      <td>0.577018</td>\n",
              "      <td>5576.688265</td>\n",
              "      <td>0.041901</td>\n",
              "    </tr>\n",
              "    <tr>\n",
              "      <th>3</th>\n",
              "      <td>RNN - Simple</td>\n",
              "      <td>0.573115</td>\n",
              "      <td>5602.358432</td>\n",
              "      <td>0.045089</td>\n",
              "    </tr>\n",
              "  </tbody>\n",
              "</table>\n",
              "</div>"
            ]
          },
          "metadata": {},
          "execution_count": 48
        }
      ]
    },
    {
      "cell_type": "code",
      "source": [
        "model_RNN_normal = Sequential([\n",
        "    SimpleRNN(64, input_shape=(X_train_scaled.shape[1], 1), kernel_regularizer=l2(0.001), return_sequences=False),\n",
        "    Dropout(0.2),\n",
        "    Dense(32, activation=\"relu\", kernel_regularizer=l2(0.001)),\n",
        "    Dropout(0.2),\n",
        "    Dense(1)\n",
        "])\n",
        "\n",
        "model_RNN_normal.compile(optimizer=\"adam\", loss=\"mae\")\n",
        "\n",
        "history_rnn = model_RNN_normal.fit(\n",
        "    X_train_scaled, y_train_scaled,\n",
        "    validation_data=(X_val_scaled, y_val_scaled),\n",
        "    epochs=100,\n",
        "    batch_size=32,\n",
        "    callbacks=[early_stop],\n",
        "    verbose=0\n",
        ")"
      ],
      "metadata": {
        "colab": {
          "base_uri": "https://localhost:8080/"
        },
        "id": "K0qZsV8SNbQn",
        "outputId": "27d7145c-972d-46f2-c50c-4aa6451d7085"
      },
      "execution_count": 49,
      "outputs": [
        {
          "output_type": "stream",
          "name": "stderr",
          "text": [
            "UserWarning: Do not pass an `input_shape`/`input_dim` argument to a layer. When using Sequential models, prefer using an `Input(shape)` object as the first layer in the model instead.\n"
          ]
        }
      ]
    },
    {
      "cell_type": "code",
      "source": [
        "import matplotlib.pyplot as plt\n",
        "\n",
        "plt.figure(figsize=(12,6))\n",
        "plt.plot(history_rnn.history['val_loss'], label='Normal Model')\n",
        "plt.legend()\n",
        "plt.title('Validation Loss Comparison of RNN Normal')\n",
        "plt.show()"
      ],
      "metadata": {
        "colab": {
          "base_uri": "https://localhost:8080/",
          "height": 545
        },
        "id": "_fghXddPN3tQ",
        "outputId": "dd5819e0-99bc-4703-97ce-60ca8215cea1"
      },
      "execution_count": 51,
      "outputs": [
        {
          "output_type": "display_data",
          "data": {
            "text/plain": [
              "<Figure size 1200x600 with 1 Axes>"
            ],
            "image/png": "[encoded data removed]"
          },
          "metadata": {}
        }
      ]
    },
    {
      "cell_type": "code",
      "source": [
        "y_pred_scaled = model_RNN_normal.predict(X_test_scaled)\n",
        "y_pred_scaled = scaler_y.inverse_transform(y_pred_scaled)\n",
        "y_test = y_test.reshape(-1,1)\n",
        "rmse_rnn_normal = np.sqrt(mean_squared_error(y_test, y_pred_scaled))\n",
        "mape_rnn_normal = mean_absolute_percentage_error(y_test, y_pred_scaled)\n",
        "r2_rnn_normal = r2_score(y_test, y_pred_scaled)\n",
        "print(f\"R^2 is {r2_rnn_normal} \\n RMSE is {rmse_rnn_normal} \\n MAPE is {mape_rnn_normal}\")"
      ],
      "metadata": {
        "colab": {
          "base_uri": "https://localhost:8080/"
        },
        "id": "JVfNRjgZQf4t",
        "outputId": "01a2e83c-6a63-490c-919c-74aedb87a624"
      },
      "execution_count": 52,
      "outputs": [
        {
          "output_type": "stream",
          "name": "stdout",
          "text": [
            "\u001b[1m7/7\u001b[0m \u001b[32m━━━━━━━━━━━━━━━━━━━━\u001b[0m\u001b[37m\u001b[0m \u001b[1m0s\u001b[0m 6ms/step  \n",
            "R^2 is 0.5750077962875366 \n",
            " RMSE is 5589.922718607118 \n",
            " MAPE is 0.04425815865397453\n"
          ]
        }
      ]
    },
    {
      "cell_type": "code",
      "source": [
        "result_data = {\"Method\":[\"RNN - Normal\"],\n",
        "               \"R^2\":[r2_rnn_normal],\n",
        "               \"RMSE\":[rmse_rnn_normal],\n",
        "               \"MAPE\":[mape_rnn_normal]}\n",
        "results_df = pd.concat([results_df,pd.DataFrame(result_data)],ignore_index=True)\n",
        "results_df"
      ],
      "metadata": {
        "colab": {
          "base_uri": "https://localhost:8080/",
          "height": 269
        },
        "id": "aPgiMzspQqnN",
        "outputId": "dccb9128-1af6-40a1-b1de-5013ec08443d"
      },
      "execution_count": 55,
      "outputs": [
        {
          "output_type": "execute_result",
          "data": {
            "text/plain": [
              "           Method       R^2         RMSE      MAPE\n",
              "0   LSTM - Simple  0.425390  6499.826459  0.053768\n",
              "1   LSTM - Normal  0.553000  5732.832982  0.045838\n",
              "2  LSTM - Advance  0.577018  5576.688265  0.041901\n",
              "3    RNN - Simple  0.573115  5602.358432  0.045089\n",
              "4    RNN - Normal  0.575008  5589.922719  0.044258\n",
              "5    RNN - Normal  0.575008  5589.922719  0.044258\n",
              "6    RNN - Normal  0.575008  5589.922719  0.044258"
            ],
            "text/html": [
              "<div>\n",
              "<style scoped>\n",
              "    .dataframe tbody tr th:only-of-type {\n",
              "        vertical-align: middle;\n",
              "    }\n",
              "\n",
              "    .dataframe tbody tr th {\n",
              "        vertical-align: top;\n",
              "    }\n",
              "\n",
              "    .dataframe thead th {\n",
              "        text-align: right;\n",
              "    }\n",
              "</style>\n",
              "<table border=\"1\" class=\"dataframe\">\n",
              "  <thead>\n",
              "    <tr style=\"text-align: right;\">\n",
              "      <th></th>\n",
              "      <th>Method</th>\n",
              "      <th>R^2</th>\n",
              "      <th>RMSE</th>\n",
              "      <th>MAPE</th>\n",
              "    </tr>\n",
              "  </thead>\n",
              "  <tbody>\n",
              "    <tr>\n",
              "      <th>0</th>\n",
              "      <td>LSTM - Simple</td>\n",
              "      <td>0.425390</td>\n",
              "      <td>6499.826459</td>\n",
              "      <td>0.053768</td>\n",
              "    </tr>\n",
              "    <tr>\n",
              "      <th>1</th>\n",
              "      <td>LSTM - Normal</td>\n",
              "      <td>0.553000</td>\n",
              "      <td>5732.832982</td>\n",
              "      <td>0.045838</td>\n",
              "    </tr>\n",
              "    <tr>\n",
              "      <th>2</th>\n",
              "      <td>LSTM - Advance</td>\n",
              "      <td>0.577018</td>\n",
              "      <td>5576.688265</td>\n",
              "      <td>0.041901</td>\n",
              "    </tr>\n",
              "    <tr>\n",
              "      <th>3</th>\n",
              "      <td>RNN - Simple</td>\n",
              "      <td>0.573115</td>\n",
              "      <td>5602.358432</td>\n",
              "      <td>0.045089</td>\n",
              "    </tr>\n",
              "    <tr>\n",
              "      <th>4</th>\n",
              "      <td>RNN - Normal</td>\n",
              "      <td>0.575008</td>\n",
              "      <td>5589.922719</td>\n",
              "      <td>0.044258</td>\n",
              "    </tr>\n",
              "    <tr>\n",
              "      <th>5</th>\n",
              "      <td>RNN - Normal</td>\n",
              "      <td>0.575008</td>\n",
              "      <td>5589.922719</td>\n",
              "      <td>0.044258</td>\n",
              "    </tr>\n",
              "    <tr>\n",
              "      <th>6</th>\n",
              "      <td>RNN - Normal</td>\n",
              "      <td>0.575008</td>\n",
              "      <td>5589.922719</td>\n",
              "      <td>0.044258</td>\n",
              "    </tr>\n",
              "  </tbody>\n",
              "</table>\n",
              "</div>"
            ]
          },
          "metadata": {},
          "execution_count": 55
        }
      ]
    },
    {
      "cell_type": "code",
      "source": [],
      "metadata": {
        "id": "xJoXybgFQxcN"
      },
      "execution_count": null,
      "outputs": []
    }
  ]
}